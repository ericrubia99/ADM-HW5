{
 "cells": [
  {
   "cell_type": "markdown",
   "id": "fd12a02c",
   "metadata": {},
   "source": [
    "## Algorithmic Question"
   ]
  },
  {
   "cell_type": "markdown",
   "id": "3aaa7dba",
   "metadata": {},
   "source": [
    "Alex and Sarah have been together for two years, and Alex is now thinking\n",
    "about proposing to her. But, to surprise her, he wants to install an app on her\n",
    "phone that asks her if she will marry him at the right time.\n",
    "\n",
    "\n",
    "However, to install the application secretly, he needs her phone's password,\n",
    "which he does not have. He knows her password is a poly-line made up of\n",
    "vertical or horizontal line segments. In a 3*3 grid, each line segment\n",
    "connects the centres of two cells. Alex learned the direction of each line\n",
    "segment by looking at her hand while unlocking her phone. He didn't pay\n",
    "much attention to the length of each line segment, but he is sure that her\n",
    "phone's operating system does not allow the poly-line to intersect with itself\n",
    "even at one point.\n",
    "\n",
    "\n",
    "Alex wants to distract Sarah's attention long enough to test all possible\n",
    "patterns based on the directions of the line segments he has learned.\n",
    "Therefore, he needs you to assist him in calculating how many possible\n",
    "patterns he has to try based on those directions to estimate how much time he\n",
    "needs to check all of those possibilities. Given that the line segments were\n",
    "directed right, down, left, and up, the following figure depicts two valid and\n",
    "one invalid (as the poly-lines should not intersect even in one point) patterns."
   ]
  },
  {
   "cell_type": "code",
   "execution_count": 1,
   "id": "abfa7aa4",
   "metadata": {},
   "outputs": [
    {
     "data": {
      "image/png": "[encoded data removed]",
      "text/plain": [
       "<IPython.core.display.Image object>"
      ]
     },
     "execution_count": 1,
     "metadata": {},
     "output_type": "execute_result"
    }
   ],
   "source": [
    "from IPython import display\n",
    "display.Image(\"Examples.png\")"
   ]
  },
  {
   "cell_type": "markdown",
   "id": "634654ac",
   "metadata": {},
   "source": [
    "**Input**:\n",
    "\n",
    "The input is a single string that shows the direction of the segment lines and\n",
    "contains only the characters R, L, U, and D, which correspond to the Right,\n",
    "Left, Up, and Down directions. The string's maximum length is 10. It is also\n",
    "guaranteed that two consecutive characters will be different."
   ]
  },
  {
   "cell_type": "markdown",
   "id": "d477a100",
   "metadata": {},
   "source": [
    "**Output**:\n",
    "\n",
    "We expect to see only 1 number in the output, corresponding to the number\n",
    "of different patterns that can be generated based on the line segments Alex\n",
    "learned. In some cases, this number may be 0, indicating that no patterns can\n",
    "be generated using the learned line segments."
   ]
  },
  {
   "cell_type": "markdown",
   "id": "e85578c3",
   "metadata": {},
   "source": [
    "**Examples**:\n",
    "\n",
    "DRU --> 15\n",
    "\n",
    "R --> 9\n",
    "\n",
    "LDRDRUL --> 0"
   ]
  },
  {
   "cell_type": "code",
   "execution_count": 2,
   "id": "1c461610",
   "metadata": {},
   "outputs": [],
   "source": [
    "import numpy as np"
   ]
  },
  {
   "cell_type": "markdown",
   "id": "f3136798",
   "metadata": {},
   "source": [
    "We are going to consider that all the moves can have length 1 or 2, since the length of the directions is unkown.\n",
    "\n",
    "We will also use the varibale `pos`, to indicate where the last instruction finished."
   ]
  },
  {
   "cell_type": "code",
   "execution_count": 3,
   "id": "330f0c80",
   "metadata": {},
   "outputs": [],
   "source": [
    "def password_count(instr):     # NOTE: The comments for the 1st if and the first if inside the while are\n",
    "                               # the same for the other cases, just changing right for the corresponding direction.\n",
    "    counter=0 # Counter for number of possible paths\n",
    "    n=len(instr)\n",
    "    \n",
    "    if instr[0]=='D': # If the first instruction is DOWN, we cannot start from the last row\n",
    "        instr.pop(0)    # We drop the first letter\n",
    "        instr2=instr.copy()\n",
    "        for i in range(0,2):     # These loops move us through the different starting positions that we can have\n",
    "            for j in range(0,3):\n",
    "                paths=[]\n",
    "                for k in range(i+1,3):\n",
    "                    paths.append([[i,j],[k,j]]) # And we initialize paths where each will start from a \n",
    "                while(len(instr2)>0):           # starting point among the available ones\n",
    "                    com=instr2[0]               # While there are still directions to follow, we drop that\n",
    "                    instr2.pop(0)\n",
    "                    if com=='R':\n",
    "                        for k in paths:   # For every path, we take the last visited position and we also store a \n",
    "                            last=k[-1]    # copy for the path\n",
    "                            aux=k.copy()\n",
    "                            if last[1]+1<3 and [last[0],last[1]+1] not in k: #If the position moved to the right\n",
    "                                k.append([last[0],last[1]+1])    # 1 step is valid and has not been visited\n",
    "                                                                # We add it to the path. Same for 2 steps,\n",
    "                                                                # And if the conditions are satisfied we add the \n",
    "                            if last[1]+2<3 and [last[0],last[1]+2] not in k:   #whole new path\n",
    "                                aux.append([last[0],last[1]+2])\n",
    "                                paths.append(aux)\n",
    "                    elif com=='U':\n",
    "                        for k in paths:\n",
    "                            last=k[-1]\n",
    "                            aux=k.copy()\n",
    "                            if last[0]-1>=0 and [last[0]-1,last[1]] not in k:\n",
    "                                k.append([last[0]-1,last[1]])\n",
    "                            if last[0]-2>=0 and [last[0]-2,last[1]] not in k:\n",
    "                                aux.append([last[0]-2,last[1]])\n",
    "                                paths.append(aux)\n",
    "                    elif com=='L':\n",
    "                        for k in paths:\n",
    "                            last=k[-1]\n",
    "                            aux=k.copy()\n",
    "                            if last[1]-1>=0 and [last[0],last[1]-1] not in k:\n",
    "                                k.append([last[0],last[1]-1])\n",
    "                            if last[1]-2>=0 and [last[0],last[1]-2] not in k:\n",
    "                                aux.append([last[0],last[1]-2])\n",
    "                                paths.append(aux)\n",
    "                    elif com=='D':\n",
    "                        for k in paths:\n",
    "                            last=k[-1]\n",
    "                            aux=k.copy()\n",
    "                            if last[0]+1<3 and [last[0]+1,last[1]] not in k:\n",
    "                                k.append([last[0]+1,last[1]])\n",
    "                            if last[0]+2<3 and [last[0]+2,last[1]] not in k:\n",
    "                                aux.append([last[0]+2,last[1]])\n",
    "                                paths.append(aux)\n",
    "                                \n",
    "                instr2=instr.copy() #after the while, we put the initial directions, not the very first one, \n",
    "                                    #so we can proceed in the same way with the other initial positions \n",
    "                for k in paths:\n",
    "                    if len(k)==n+1:  #If the path has the lenght =length(instr)+1, which means that it has changed the\n",
    "                                    # direction n times, then we add one to the counter\n",
    "                        counter+=1\n",
    "\n",
    "    elif instr[0]=='U': # If the first instruction is UP, we cannot start from the first row\n",
    "        instr.pop(0)\n",
    "        instr2=instr.copy()\n",
    "        for i in range(1,3):\n",
    "            for j in range(0,3):\n",
    "                paths=[]\n",
    "                for k in range(i-1,-1,-1):\n",
    "                    paths.append([[i,j],[k,j]])\n",
    "                while(len(instr2)>0):\n",
    "                    com=instr2[0]\n",
    "                    instr2.pop(0)\n",
    "                    if com=='R':\n",
    "                        print('R')\n",
    "                        for k in paths:\n",
    "                            last=k[-1]\n",
    "                            aux=k.copy()\n",
    "                            if last[1]+1<3 and [last[0],last[1]+1] not in k:\n",
    "                                k.append([last[0],last[1]+1])\n",
    "                            if last[1]+2<3 and [last[0],last[1]+2] not in k:\n",
    "                                aux.append([last[0],last[1]+2])\n",
    "                                paths.append(aux)\n",
    "                    elif com=='U':\n",
    "                        for k in paths:\n",
    "                            last=k[-1]\n",
    "                            aux=k.copy()\n",
    "                            if last[0]-1>=0 and [last[0]-1,last[1]] not in k:\n",
    "                                k.append([last[0]-1,last[1]])\n",
    "                            if last[0]-2>=0 and [last[0]-2,last[1]] not in k:\n",
    "                                aux.append([last[0]-2,last[1]])\n",
    "                                paths.append(aux)\n",
    "                    elif com=='L':\n",
    "                        for k in paths:\n",
    "                            last=k[-1]\n",
    "                            aux=k.copy()\n",
    "                            if last[1]-1>=0 and [last[0],last[1]-1] not in k:\n",
    "                                k.append([last[0],last[1]-1])\n",
    "                            if last[1]-2>=0 and [last[0],last[1]-2] not in k:\n",
    "                                aux.append([last[0],last[1]-2])\n",
    "                                paths.append(aux)\n",
    "                    elif com=='D':\n",
    "                        for k in paths:\n",
    "                            last=k[-1]\n",
    "                            aux=k.copy()\n",
    "                            if last[0]+1<3 and [last[0]+1,last[1]] not in k:\n",
    "                                k.append([last[0]+1,last[1]])\n",
    "                            if last[0]+2<3 and [last[0]+2,last[1]] not in k:\n",
    "                                aux.append([last[0]+2,last[1]])\n",
    "                                paths.append(aux)\n",
    "                instr2=instr.copy()\n",
    "                for k in paths:\n",
    "                    if len(k)==n+1:\n",
    "                        counter+=1\n",
    "                \n",
    "    elif instr[0]=='R': # If the first instruction is RIGHT, we cannot start from the last column\n",
    "        instr.pop(0)\n",
    "        instr2=instr.copy()\n",
    "        for i in range(0,3):\n",
    "            for j in range(0,2):\n",
    "                paths=[]\n",
    "                for k in range(j+1,3):\n",
    "                    paths.append([[i,j],[i,k]])\n",
    "                while(len(instr2)>0):\n",
    "                    com=instr2[0]\n",
    "                    instr2.pop(0)\n",
    "                    if com=='R':\n",
    "                        for k in paths:\n",
    "                            last=k[-1]\n",
    "                            aux=k.copy()\n",
    "                            if last[1]+1<3 and [last[0],last[1]+1] not in k:\n",
    "                                k.append([last[0],last[1]+1])\n",
    "                            if last[1]+2<3 and [last[0],last[1]+2] not in k:\n",
    "                                aux.append([last[0],last[1]+2])\n",
    "                                paths.append(aux)\n",
    "                    elif com=='U':\n",
    "                        for k in paths:\n",
    "                            last=k[-1]\n",
    "                            aux=k.copy()\n",
    "                            if last[0]-1>=0 and [last[0]-1,last[1]] not in k:\n",
    "                                k.append([last[0]-1,last[1]])\n",
    "                            if last[0]-2>=0 and [last[0]-2,last[1]] not in k:\n",
    "                                aux.append([last[0]-2,last[1]])\n",
    "                                paths.append(aux)\n",
    "                    elif com=='L':\n",
    "                        for k in paths:\n",
    "                            last=k[-1]\n",
    "                            aux=k.copy()\n",
    "                            if last[1]-1>=0 and [last[0],last[1]-1] not in k:\n",
    "                                k.append([last[0],last[1]-1])\n",
    "                            if last[1]-2>=0 and [last[0],last[1]-2] not in k:\n",
    "                                aux.append([last[0],last[1]-2])\n",
    "                                paths.append(aux)\n",
    "                    elif com=='D':\n",
    "                        for k in paths:\n",
    "                            last=k[-1]\n",
    "                            aux=k.copy()\n",
    "                            if last[0]+1<3 and [last[0]+1,last[1]] not in k:\n",
    "                                k.append([last[0]+1,last[1]])\n",
    "                            if last[0]+2<3 and [last[0]+2,last[1]] not in k:\n",
    "                                aux.append([last[0]+2,last[1]])\n",
    "                                paths.append(aux)\n",
    "                instr2=instr.copy()\n",
    "                for k in paths:\n",
    "                    if len(k)==n+1:\n",
    "                        counter+=1\n",
    "                \n",
    "    elif instr[0]=='L': # If the first instruction is LEFT, we cannot start from the first column\n",
    "        instr.pop(0)\n",
    "        instr2=instr.copy()\n",
    "        for i in range(0,2):\n",
    "            for j in range(1,3):\n",
    "                paths=[]\n",
    "                for k in range(j-1,-1,-1):\n",
    "                    paths.append([[i,j],[i,k]])\n",
    "                while(len(instr2)>0):\n",
    "                    com=instr2[0]\n",
    "                    instr2.pop(0)\n",
    "                    if com=='R':\n",
    "                        for k in paths:\n",
    "                            last=k[-1]\n",
    "                            aux=k.copy()\n",
    "                            if last[1]+1<3 and [last[0],last[1]+1] not in k:\n",
    "                                k.append([last[0],last[1]+1])\n",
    "                            if last[1]+2<3 and [last[0],last[1]+2] not in k:\n",
    "                                aux.append([last[0],last[1]+2])\n",
    "                                paths.append(aux)\n",
    "                    elif com=='U':\n",
    "                        for k in paths:\n",
    "                            last=k[-1]\n",
    "                            aux=k.copy()\n",
    "                            if last[0]-1>=0 and [last[0]-1,last[1]] not in k:\n",
    "                                k.append([last[0]-1,last[1]])\n",
    "                            if last[0]-2>=0 and [last[0]-2,last[1]] not in k:\n",
    "                                aux.append([last[0]-2,last[1]])\n",
    "                                paths.append(aux)\n",
    "                    elif com=='L':\n",
    "                        for k in paths:\n",
    "                            last=k[-1]\n",
    "                            aux=k.copy()\n",
    "                            if last[1]-1>=0 and [last[0],last[1]-1] not in k:\n",
    "                                k.append([last[0],last[1]-1])\n",
    "                            if last[1]-2>=0 and [last[0],last[1]-2] not in k:\n",
    "                                aux.append([last[0],last[1]-2])\n",
    "                                paths.append(aux)\n",
    "                    elif com=='D':\n",
    "                        for k in paths:\n",
    "                            last=k[-1]\n",
    "                            aux=k.copy()\n",
    "                            if last[0]+1<3 and [last[0]+1,last[1]] not in k:\n",
    "                                k.append([last[0]+1,last[1]])\n",
    "                            if last[0]+2<3 and [last[0]+2,last[1]] not in k:\n",
    "                                aux.append([last[0]+2,last[1]])\n",
    "                                paths.append(aux)\n",
    "                instr2=instr.copy()\n",
    "                for k in paths:\n",
    "                    if len(k)==n+1:\n",
    "                        counter+=1\n",
    "                \n",
    "        \n",
    "    return(counter)"
   ]
  },
  {
   "cell_type": "code",
   "execution_count": 4,
   "id": "3d64aa45",
   "metadata": {},
   "outputs": [
    {
     "data": {
      "text/plain": [
       "15"
      ]
     },
     "execution_count": 4,
     "metadata": {},
     "output_type": "execute_result"
    }
   ],
   "source": [
    "txt='DRU'\n",
    "instructions=[*txt]\n",
    "password_count(instructions)"
   ]
  },
  {
   "cell_type": "code",
   "execution_count": 5,
   "id": "01ba142b",
   "metadata": {},
   "outputs": [
    {
     "data": {
      "text/plain": [
       "9"
      ]
     },
     "execution_count": 5,
     "metadata": {},
     "output_type": "execute_result"
    }
   ],
   "source": [
    "txt2='R'\n",
    "instructions2=[*txt2]\n",
    "password_count(instructions2)"
   ]
  },
  {
   "cell_type": "code",
   "execution_count": 6,
   "id": "91e935c9",
   "metadata": {},
   "outputs": [
    {
     "data": {
      "text/plain": [
       "0"
      ]
     },
     "execution_count": 6,
     "metadata": {},
     "output_type": "execute_result"
    }
   ],
   "source": [
    "txt3='LDRDRUL'\n",
    "instructions3=[*txt3]\n",
    "password_count(instructions3)"
   ]
  },
  {
   "cell_type": "code",
   "execution_count": null,
   "id": "577201f2",
   "metadata": {},
   "outputs": [],
   "source": []
  }
 ],
 "metadata": {
  "kernelspec": {
   "display_name": "Python 3 (ipykernel)",
   "language": "python",
   "name": "python3"
  },
  "language_info": {
   "codemirror_mode": {
    "name": "ipython",
    "version": 3
   },
   "file_extension": ".py",
   "mimetype": "text/x-python",
   "name": "python",
   "nbconvert_exporter": "python",
   "pygments_lexer": "ipython3",
   "version": "3.9.12"
  }
 },
 "nbformat": 4,
 "nbformat_minor": 5
}

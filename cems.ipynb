{
 "cells": [
  {
   "attachments": {},
   "cell_type": "markdown",
   "metadata": {},
   "source": [
    "# **Algorithmic Methods of Data Mining - Fall 2022**\n",
    "\n",
    "## **Homework 5: The Marvel Universe!**\n",
    "\n",
    "**Packages that are used troughout the notebook:**"
   ]
  },
  {
   "cell_type": "code",
   "execution_count": 4,
   "metadata": {},
   "outputs": [],
   "source": [
    "# For data analysis and manipulation\n",
    "import pandas as pd\n",
    "import numpy as np\n",
    "\n",
    "# For graph representation\n",
    "import networkx as nx\n",
    "\n",
    "# Utils\n",
    "from tqdm import tqdm\n",
    "import sys"
   ]
  },
  {
   "attachments": {},
   "cell_type": "markdown",
   "metadata": {},
   "source": [
    "## 1. Data"
   ]
  },
  {
   "attachments": {},
   "cell_type": "markdown",
   "metadata": {},
   "source": [
    "### Matching hero names\n",
    "Here we examine and prepare the data so that the hero names match between the two datasets. "
   ]
  },
  {
   "cell_type": "code",
   "execution_count": 19,
   "metadata": {},
   "outputs": [],
   "source": [
    "# Load data and strip forward slashes and whitespace\n",
    "nodes = pd.read_csv('data/nodes.csv').applymap(lambda x: x.rstrip('/').strip())\n",
    "edges = pd.read_csv('data/edges.csv').applymap(lambda x: x.rstrip('/').strip())\n",
    "network = pd.read_csv('data/hero-network.csv').applymap(lambda x: x.rstrip('/').strip())"
   ]
  },
  {
   "cell_type": "code",
   "execution_count": 20,
   "metadata": {},
   "outputs": [
    {
     "data": {
      "text/plain": [
       "(6439, 6439, 6421)"
      ]
     },
     "execution_count": 20,
     "metadata": {},
     "output_type": "execute_result"
    }
   ],
   "source": [
    "# Unique heroes in each dataframe\n",
    "node_heroes = set(nodes[nodes['type'] == 'hero']['node'])\n",
    "edge_heroes = set(edges['hero'])\n",
    "network_heroes = set(pd.concat([network['hero1'], network['hero2']]))\n",
    "\n",
    "# Number of unique heroes in each dataframe\n",
    "len(node_heroes), len(edge_heroes), len(network_heroes)"
   ]
  },
  {
   "attachments": {},
   "cell_type": "markdown",
   "metadata": {},
   "source": [
    "We would like to have each hero in edges and network represented in the nodes dataframe. So let's see which ones do not have a match in the nodes dataframe."
   ]
  },
  {
   "cell_type": "code",
   "execution_count": 21,
   "metadata": {},
   "outputs": [
    {
     "name": "stdout",
     "output_type": "stream",
     "text": [
      "Heroes in edges but not in nodes: {'SPIDER-MAN/PETER PARKER'}\n",
      "Heroes in nodes but not in edges: {'SPIDER-MAN/PETER PARKERKER'}\n"
     ]
    }
   ],
   "source": [
    "print('Heroes in edges but not in nodes:', edge_heroes - node_heroes)\n",
    "print('Heroes in nodes but not in edges:', node_heroes - edge_heroes)"
   ]
  },
  {
   "cell_type": "code",
   "execution_count": 22,
   "metadata": {},
   "outputs": [
    {
     "name": "stdout",
     "output_type": "stream",
     "text": [
      "Heroes in network but not in nodes: {'SPIDER-MAN/PETER PAR'}\n"
     ]
    }
   ],
   "source": [
    "# Fix spiderman's name in nodes\n",
    "nodes.loc[nodes['node'] == 'SPIDER-MAN/PETER PARKERKER', 'node'] = 'SPIDER-MAN/PETER PARKER'\n",
    "\n",
    "# Update the heroe set for nodes\n",
    "node_heroes = set(nodes[nodes['type'] == 'hero']['node'])\n",
    "\n",
    "# Now let's check the network dataframe\n",
    "print('Heroes in network but not in nodes:', network_heroes - node_heroes)"
   ]
  },
  {
   "cell_type": "code",
   "execution_count": 23,
   "metadata": {},
   "outputs": [
    {
     "name": "stdout",
     "output_type": "stream",
     "text": [
      "Number of heroes in nodes but not in network: 18\n"
     ]
    }
   ],
   "source": [
    "# Fix spiderman's name in network\n",
    "network = network.applymap(lambda x: 'SPIDER-MAN/PETER PARKER' if x == 'SPIDER-MAN/PETER PAR' else x)\n",
    "network_heroes = set(pd.concat([network['hero1'], network['hero2']]))\n",
    "\n",
    "# Now we have every hero in the nodes dataframe\n",
    "print('Number of heroes in nodes but not in network:', len(node_heroes - network_heroes))"
   ]
  },
  {
   "attachments": {},
   "cell_type": "markdown",
   "metadata": {},
   "source": [
    "We have processed the data such that all the heroes exist in the nodes df. Now let's drop the rows in the network df which have the same hero pair."
   ]
  },
  {
   "cell_type": "code",
   "execution_count": 24,
   "metadata": {},
   "outputs": [
    {
     "data": {
      "text/plain": [
       "(12651, 12651, 0)"
      ]
     },
     "execution_count": 24,
     "metadata": {},
     "output_type": "execute_result"
    }
   ],
   "source": [
    "# drop same hero pairs\n",
    "network = network[network['hero1'] != network['hero2']].reset_index(drop=True)\n",
    "\n",
    "# Are the comics in the nodes and edges matching?\n",
    "nodes_comics = set(nodes[nodes['type'] == 'comic']['node'])\n",
    "edges_comics = set(edges['comic'])\n",
    "len(nodes_comics), len(edges_comics), len(nodes_comics ^ edges_comics) # The comics are matching"
   ]
  },
  {
   "attachments": {},
   "cell_type": "markdown",
   "metadata": {},
   "source": [
    "Also, we have discovered that there are some heroes and comics that share the same name. We will add \"_c\" to the comic name so that it will have its own unique node for the upcoming analysis."
   ]
  },
  {
   "cell_type": "code",
   "execution_count": 25,
   "metadata": {},
   "outputs": [
    {
     "data": {
      "text/plain": [
       "2078     BLADE\n",
       "13362    REBEL\n",
       "13704    SABRE\n",
       "Name: node, dtype: object"
      ]
     },
     "execution_count": 25,
     "metadata": {},
     "output_type": "execute_result"
    }
   ],
   "source": [
    "iffy_comics = nodes.loc[nodes['node'].duplicated(keep=False) & (nodes['type'] == 'comic'), 'node']\n",
    "iffy_comics"
   ]
  },
  {
   "cell_type": "code",
   "execution_count": 26,
   "metadata": {},
   "outputs": [],
   "source": [
    "nodes.loc[nodes['node'].isin(iffy_comics) & (nodes['type'] == 'comic'), 'node'] += '_c'\n",
    "edges.loc[edges['comic'].isin(iffy_comics), 'comic'] += '_c'"
   ]
  },
  {
   "cell_type": "code",
   "execution_count": 50,
   "metadata": {},
   "outputs": [
    {
     "name": "stderr",
     "output_type": "stream",
     "text": [
      "100%|██████████| 12651/12651 [00:01<00:00, 9073.14it/s] \n"
     ]
    },
    {
     "data": {
      "text/plain": [
       "((579171, 3), (572235, 2))"
      ]
     },
     "execution_count": 50,
     "metadata": {},
     "output_type": "execute_result"
    }
   ],
   "source": [
    "from itertools import combinations\n",
    "from tqdm import tqdm\n",
    "\n",
    "# Here we create are own network dataframe\n",
    "my_network = []\n",
    "\n",
    "for comic, heroes in tqdm(edges.groupby('comic')['hero']):\n",
    "    heroes = sorted(heroes)\n",
    "    for combo in combinations(heroes, 2):\n",
    "\n",
    "        my_network.append({'hero1': combo[0], 'hero2': combo[1], 'comic': comic})\n",
    "\n",
    "my_network = pd.DataFrame(my_network)\n",
    "my_network.shape, network.shape"
   ]
  },
  {
   "attachments": {},
   "cell_type": "markdown",
   "metadata": {},
   "source": [
    "Lastly, we have discovered that there are some heroes and comics that share the same name. We will add \"_c\" to the comic name so that it will have its own unique node for the upcoming analysis."
   ]
  },
  {
   "cell_type": "code",
   "execution_count": 42,
   "metadata": {},
   "outputs": [
    {
     "ename": "NameError",
     "evalue": "name 'edge_heroes' is not defined",
     "output_type": "error",
     "traceback": [
      "\u001b[0;31m---------------------------------------------------------------------------\u001b[0m",
      "\u001b[0;31mNameError\u001b[0m                                 Traceback (most recent call last)",
      "\u001b[1;32m/Users/cemsirin/Documents/GitHub/ADM_HW5_Group11/cems.ipynb Cell 18\u001b[0m in \u001b[0;36m<cell line: 2>\u001b[0;34m()\u001b[0m\n\u001b[1;32m      <a href='vscode-notebook-cell:/Users/cemsirin/Documents/GitHub/ADM_HW5_Group11/cems.ipynb#X54sZmlsZQ%3D%3D?line=0'>1</a>\u001b[0m \u001b[39m# Delete unnecessary variables\u001b[39;00m\n\u001b[0;32m----> <a href='vscode-notebook-cell:/Users/cemsirin/Documents/GitHub/ADM_HW5_Group11/cems.ipynb#X54sZmlsZQ%3D%3D?line=1'>2</a>\u001b[0m \u001b[39mdel\u001b[39;00m combo, comic, edge_heroes, edges_comics, heroes, iffy_comics, network_heroes, node_heroes, nodes_comics\n",
      "\u001b[0;31mNameError\u001b[0m: name 'edge_heroes' is not defined"
     ]
    }
   ],
   "source": [
    "# Delete unnecessary variables\n",
    "del combo, comic, edge_heroes, edges_comics, heroes, iffy_comics, network_heroes, node_heroes, nodes_comics"
   ]
  },
  {
   "attachments": {},
   "cell_type": "markdown",
   "metadata": {},
   "source": [
    "## 2. Backend Implementation\n",
    "We start by creating a list of heroes and their number of appearances so that we can get the top N heroes when needed."
   ]
  },
  {
   "cell_type": "code",
   "execution_count": 53,
   "metadata": {},
   "outputs": [
    {
     "data": {
      "text/plain": [
       "hero\n",
       "SPIDER-MAN/PETER PARKER    1577\n",
       "CAPTAIN AMERICA            1334\n",
       "IRON MAN/TONY STARK        1150\n",
       "THING/BENJAMIN J. GR        963\n",
       "THOR/DR. DONALD BLAK        956\n",
       "dtype: int64"
      ]
     },
     "execution_count": 53,
     "metadata": {},
     "output_type": "execute_result"
    }
   ],
   "source": [
    "heroes = edges.groupby('hero').size().sort_values(ascending=False)\n",
    "heroes.head(5)"
   ]
  },
  {
   "attachments": {},
   "cell_type": "markdown",
   "metadata": {},
   "source": [
    "#### Creating the **First Graph**"
   ]
  },
  {
   "attachments": {},
   "cell_type": "markdown",
   "metadata": {},
   "source": [
    "We have a bit of an interesting idea to readjust the weights of the edges. You have asked us to have a lower weight/cost for heroes that appear together more frequently. We will add a **small twist** to this idea. These weights will be adjusted based on the number of appearances of the heroes. We will use the following formula to calculate the weight of an edge:\n",
    "$$\n",
    "w_{ij} = \\frac{|c \\in C: h_i \\in c| + |c \\in C: h_j \\in c|}{|c \\in C: h_i, h_j \\in c|}\n",
    "$$\n",
    "where $C$ is the set of all comics, $h_i$ and $h_j$ are two arbitrary heroes in the Marvel Universe. In other words, weight $w_{ij}$ is the inverse of the probability that the two heroes appear together."
   ]
  },
  {
   "cell_type": "code",
   "execution_count": 54,
   "metadata": {},
   "outputs": [
    {
     "data": {
      "text/html": [
       "<div>\n",
       "<style scoped>\n",
       "    .dataframe tbody tr th:only-of-type {\n",
       "        vertical-align: middle;\n",
       "    }\n",
       "\n",
       "    .dataframe tbody tr th {\n",
       "        vertical-align: top;\n",
       "    }\n",
       "\n",
       "    .dataframe thead th {\n",
       "        text-align: right;\n",
       "    }\n",
       "</style>\n",
       "<table border=\"1\" class=\"dataframe\">\n",
       "  <thead>\n",
       "    <tr style=\"text-align: right;\">\n",
       "      <th></th>\n",
       "      <th>hero1</th>\n",
       "      <th>hero2</th>\n",
       "      <th>colab</th>\n",
       "      <th>tot</th>\n",
       "      <th>weight</th>\n",
       "    </tr>\n",
       "  </thead>\n",
       "  <tbody>\n",
       "    <tr>\n",
       "      <th>106165</th>\n",
       "      <td>HUMAN TORCH/JOHNNY S</td>\n",
       "      <td>THING/BENJAMIN J. GR</td>\n",
       "      <td>724</td>\n",
       "      <td>1849</td>\n",
       "      <td>2.553867</td>\n",
       "    </tr>\n",
       "    <tr>\n",
       "      <th>105742</th>\n",
       "      <td>HUMAN TORCH/JOHNNY S</td>\n",
       "      <td>MR. FANTASTIC/REED R</td>\n",
       "      <td>694</td>\n",
       "      <td>1740</td>\n",
       "      <td>2.507205</td>\n",
       "    </tr>\n",
       "    <tr>\n",
       "      <th>141154</th>\n",
       "      <td>MR. FANTASTIC/REED R</td>\n",
       "      <td>THING/BENJAMIN J. GR</td>\n",
       "      <td>690</td>\n",
       "      <td>1817</td>\n",
       "      <td>2.633333</td>\n",
       "    </tr>\n",
       "    <tr>\n",
       "      <th>109418</th>\n",
       "      <td>INVISIBLE WOMAN/SUE</td>\n",
       "      <td>MR. FANTASTIC/REED R</td>\n",
       "      <td>682</td>\n",
       "      <td>1616</td>\n",
       "      <td>2.369501</td>\n",
       "    </tr>\n",
       "    <tr>\n",
       "      <th>105475</th>\n",
       "      <td>HUMAN TORCH/JOHNNY S</td>\n",
       "      <td>INVISIBLE WOMAN/SUE</td>\n",
       "      <td>675</td>\n",
       "      <td>1648</td>\n",
       "      <td>2.441481</td>\n",
       "    </tr>\n",
       "  </tbody>\n",
       "</table>\n",
       "</div>"
      ],
      "text/plain": [
       "                       hero1                 hero2  colab   tot    weight\n",
       "106165  HUMAN TORCH/JOHNNY S  THING/BENJAMIN J. GR    724  1849  2.553867\n",
       "105742  HUMAN TORCH/JOHNNY S  MR. FANTASTIC/REED R    694  1740  2.507205\n",
       "141154  MR. FANTASTIC/REED R  THING/BENJAMIN J. GR    690  1817  2.633333\n",
       "109418   INVISIBLE WOMAN/SUE  MR. FANTASTIC/REED R    682  1616  2.369501\n",
       "105475  HUMAN TORCH/JOHNNY S   INVISIBLE WOMAN/SUE    675  1648  2.441481"
      ]
     },
     "execution_count": 54,
     "metadata": {},
     "output_type": "execute_result"
    }
   ],
   "source": [
    "edges_weighted = my_network.groupby(['hero1', 'hero2']).size().reset_index().sort_values(by=0, ascending=False)\n",
    "edges_weighted.columns = ['hero1', 'hero2', 'colab']\n",
    "\n",
    "edges_weighted['tot'] = edges_weighted['hero1'].map(heroes) + edges_weighted['hero2'].map(heroes)\n",
    "edges_weighted['weight'] = edges_weighted['tot'] / edges_weighted['colab']\n",
    "edges_weighted.head(5)"
   ]
  },
  {
   "cell_type": "code",
   "execution_count": 55,
   "metadata": {},
   "outputs": [
    {
     "data": {
      "text/plain": [
       "(6421, 171644, 6421, 171644)"
      ]
     },
     "execution_count": 55,
     "metadata": {},
     "output_type": "execute_result"
    }
   ],
   "source": [
    "G1 = nx.from_pandas_edgelist(edges_weighted, 'hero1', 'hero2', 'weight')\n",
    "G1.number_of_nodes(), G1.number_of_edges(), pd.concat([edges_weighted['hero1'], edges_weighted['hero2']]).nunique(), edges_weighted.shape[0]"
   ]
  },
  {
   "attachments": {},
   "cell_type": "markdown",
   "metadata": {},
   "source": [
    "#### Creating the **Second Graph**"
   ]
  },
  {
   "cell_type": "code",
   "execution_count": 56,
   "metadata": {},
   "outputs": [
    {
     "data": {
      "text/plain": [
       "(19090, 96104, 19090, 96104)"
      ]
     },
     "execution_count": 56,
     "metadata": {},
     "output_type": "execute_result"
    }
   ],
   "source": [
    "G2 = nx.from_pandas_edgelist(edges, 'hero', 'comic')\n",
    "G2.number_of_nodes(), G2.number_of_edges(), nodes.shape[0], edges.shape[0]"
   ]
  },
  {
   "cell_type": "code",
   "execution_count": 63,
   "metadata": {},
   "outputs": [
    {
     "data": {
      "text/plain": [
       "(19090, 96104, 19090, 96104)"
      ]
     },
     "execution_count": 63,
     "metadata": {},
     "output_type": "execute_result"
    }
   ],
   "source": [
    "G2.add_nodes_from(nodes[nodes['type'] == 'hero']['node'], type='hero')\n",
    "G2.add_nodes_from(nodes[nodes['type'] == 'comic']['node'], type='comic')\n",
    "G2.number_of_nodes(), G2.number_of_edges(), nodes.shape[0], edges.shape[0]"
   ]
  },
  {
   "attachments": {},
   "cell_type": "markdown",
   "metadata": {},
   "source": [
    "### Functionality 1 - extract the graph's features"
   ]
  },
  {
   "cell_type": "code",
   "execution_count": 120,
   "metadata": {},
   "outputs": [
    {
     "name": "stdout",
     "output_type": "stream",
     "text": [
      "Number of nodes: 3000\n",
      "Number of collaborations: 124977\n",
      "Network density: 0.0278\n",
      "Average degree: 83.3180\n",
      "Hub nodes: SHE-HULK/JENNIFER WA\t\tFURY, COL. NICHOLAS\t\tPROFESSOR X/CHARLES\t\tWOLVERINE/LOGAN\t\tDR. STRANGE/STEPHEN\t\tCYCLOPS/SCOTT SUMMER\t\tIRON MAN/TONY STARK\t\tMARVEL GIRL/JEAN GRE\t\tMR. FANTASTIC/REED R\t\tSUB-MARINER/NAMOR MA\t\tTHOR/DR. DONALD BLAK\t\tICEMAN/ROBERT BOBBY\t\tWONDER MAN/SIMON WIL\t\tTHING/BENJAMIN J. GR\t\tBEAST/HENRY &HANK& P\t\tINVISIBLE WOMAN/SUE\t\tSCARLET WITCH/WANDA\t\tJARVIS, EDWIN\t\tHAWK\t\tCOLOSSUS II/PETER RA\t\tHULK/DR. ROBERT BRUC\t\tANGEL/WARREN KENNETH\t\tSPIDER-MAN/PETER PARKER\t\tWASP/JANET VAN DYNE\t\tHERCULES [GREEK GOD]\t\tHUMAN TORCH/JOHNNY S\t\tSTORM/ORORO MUNROE S\t\tANT-MAN/DR. HENRY J.\t\tCAPTAIN AMERICA\t\tVISION\n",
      "The network is sparse: True\n",
      "Network degree distribution:\n",
      "    count    mean         std  min   25%   50%   75%     max\n",
      "0  3000.0  83.318  129.603245  1.0  23.0  42.0  86.0  1452.0\n"
     ]
    }
   ],
   "source": [
    "def graph_summary(G: nx.Graph, type: int, N: int = 10):\n",
    "    \"\"\"Prints some basic features of the graph.\n",
    "    Args:\n",
    "        G (nx.Graph): The graph.\n",
    "        type (int): The type of graph. Can be 1 or 2.\n",
    "        N (int): Denotes the top N heroes to consider.\n",
    "    \"\"\"\n",
    "    if type not in [1, 2]:\n",
    "        raise ValueError('type must be 1 or 2')\n",
    "    \n",
    "    subnodes = heroes.head(N).index\n",
    "    subg = G.subgraph(subnodes)\n",
    "\n",
    "    N = subg.number_of_nodes()\n",
    "    print('Number of nodes:', N)\n",
    "\n",
    "    E = subg.number_of_edges()\n",
    "    if type == 1:\n",
    "        print('Number of collaborations:', E)\n",
    "    else:\n",
    "        print('Number of hero appearances in each comic:', E)\n",
    "\n",
    "\n",
    "    print(f'Network density: {nx.density(subg):.4f}')\n",
    "\n",
    "    ave_degree = np.mean(list(dict(subg.degree()).values()))\n",
    "    print(f'Average degree: {ave_degree:.4f}')\n",
    "\n",
    "    q95 = np.quantile(list(dict(subg.degree()).values()), 0.99)\n",
    "    print('Hub nodes:', '\\t\\t'.join([node for node, degree in subg.degree() if degree >= q95]))\n",
    "    print('The network is sparse:', nx.density(subg) < 0.1)\n",
    "\n",
    "    print('Network degree distribution:')\n",
    "    print(pd.DataFrame(dict(subg.degree()).values()).describe().T)\n",
    "\n",
    "graph_summary(G1, 1, 3000)\n",
    "# graph_summary(G2, 2, 3000)"
   ]
  },
  {
   "attachments": {},
   "cell_type": "markdown",
   "metadata": {},
   "source": [
    "### Functionality 2 - Find top superheroes!"
   ]
  },
  {
   "cell_type": "code",
   "execution_count": 161,
   "metadata": {},
   "outputs": [
    {
     "name": "stdout",
     "output_type": "stream",
     "text": [
      "CAPTAIN AMERICA's Betweeness: 0.1794\n",
      "CAPTAIN AMERICA's PageRank: 0.0224\n",
      "CAPTAIN AMERICA's ClosenessCentrality: 0.5845\n",
      "CAPTAIN AMERICA's DegreeCentrality: 0.2989\n"
     ]
    }
   ],
   "source": [
    "def top_heroes(G: nx.Graph, node: str, metric: int, N: int = 10):\n",
    "    \"\"\"Prints the top N heroes based on the given metric.\n",
    "    Args:\n",
    "        G (nx.Graph): The graph.\n",
    "        node (str): The node (hero or comic).\n",
    "        metric (int): Integer denoting the metric. Can be 1, 2, 3 or 4, that corresponds to:\n",
    "            1: Betweeness\n",
    "            2: PageRank\n",
    "            3: ClosenessCentrality\n",
    "            4: DegreeCentrality\n",
    "        N (int): Denotes the top N heroes to consider.\n",
    "    \"\"\"\n",
    "    if metric not in [1, 2, 3, 4]:\n",
    "        raise ValueError('metric must be 1, 2, 3 or 4')\n",
    "    \n",
    "    measure = ['Betweeness', 'PageRank', 'ClosenessCentrality', 'DegreeCentrality']\n",
    "    subnodes = heroes.index[:N]\n",
    "    subg = G.subgraph(subnodes)\n",
    "\n",
    "    if metric == 1:\n",
    "        res = nx.betweenness_centrality(subg, normalized=True, weight='weight')\n",
    "        print(f'{node}\\'s {measure[metric-1]}: {res[node]:.4f}')\n",
    "    elif metric == 2:\n",
    "        res = nx.pagerank(G, weight='weight')\n",
    "        print(f'{node}\\'s {measure[metric-1]}: {res[node]:.4f}')\n",
    "    elif metric == 3:\n",
    "        res = nx.closeness_centrality(G, u=node)\n",
    "        print(f'{node}\\'s {measure[metric-1]}: {res:.4f}')\n",
    "    else:\n",
    "        res = nx.degree_centrality(G)\n",
    "        print(f'{node}\\'s {measure[metric-1]}: {res[node]:.4f}')\n",
    "\n",
    "    # print(res)\n",
    "    # print('Top 10 heroes:', *[(node, value) for node, value in sorted(res.items(), key=lambda x: x[1], reverse=True)[:2]])\n",
    "\n",
    "top_heroes(G1, heroes.index[1], 1, 50)\n",
    "top_heroes(G1, heroes.index[1], 2, 50)\n",
    "top_heroes(G1, heroes.index[1], 3, 50)\n",
    "top_heroes(G1, heroes.index[1], 4, 50)"
   ]
  },
  {
   "attachments": {},
   "cell_type": "markdown",
   "metadata": {},
   "source": [
    "### Functionality 3 - Shortest ordered Route"
   ]
  },
  {
   "attachments": {},
   "cell_type": "markdown",
   "metadata": {},
   "source": [
    "### Functionality 4 - Disconnecting Graphs"
   ]
  },
  {
   "attachments": {},
   "cell_type": "markdown",
   "metadata": {},
   "source": [
    "### Functionality 5 - Extracting Communities"
   ]
  },
  {
   "attachments": {},
   "cell_type": "markdown",
   "metadata": {},
   "source": [
    "## 3. Frontend Implementation"
   ]
  },
  {
   "attachments": {},
   "cell_type": "markdown",
   "metadata": {},
   "source": [
    "### Visualization 1 - Visualize some features of the network"
   ]
  },
  {
   "attachments": {},
   "cell_type": "markdown",
   "metadata": {},
   "source": [
    "### Visualization 2 - Visualize centrality measure"
   ]
  },
  {
   "attachments": {},
   "cell_type": "markdown",
   "metadata": {},
   "source": [
    "### Visualization 3 - Visualize the shortest-ordered route"
   ]
  },
  {
   "attachments": {},
   "cell_type": "markdown",
   "metadata": {},
   "source": [
    "### Visualization 4 - Visualize the disconnected graph"
   ]
  },
  {
   "attachments": {},
   "cell_type": "markdown",
   "metadata": {},
   "source": [
    "### Visualization 5 - Visualize the communities"
   ]
  },
  {
   "attachments": {},
   "cell_type": "markdown",
   "metadata": {},
   "source": [
    "## 4. Command Line Questions"
   ]
  },
  {
   "attachments": {},
   "cell_type": "markdown",
   "metadata": {},
   "source": [
    "## 5. Bonus - PageRank on MapReduce"
   ]
  },
  {
   "attachments": {},
   "cell_type": "markdown",
   "metadata": {},
   "source": [
    "## 6. Algorithmic Question"
   ]
  }
 ],
 "metadata": {
  "kernelspec": {
   "display_name": "base",
   "language": "python",
   "name": "python3"
  },
  "language_info": {
   "codemirror_mode": {
    "name": "ipython",
    "version": 3
   },
   "file_extension": ".py",
   "mimetype": "text/x-python",
   "name": "python",
   "nbconvert_exporter": "python",
   "pygments_lexer": "ipython3",
   "version": "3.9.12"
  },
  "orig_nbformat": 4,
  "vscode": {
   "interpreter": {
    "hash": "782117f08ed859aa13a701b87eaecaa1d2e6c59a6ebb52301f0d1b251c4747e4"
   }
  }
 },
 "nbformat": 4,
 "nbformat_minor": 2
}

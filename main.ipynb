{
 "cells": [
  {
   "attachments": {},
   "cell_type": "markdown",
   "metadata": {},
   "source": [
    "# **Algorithmic Methods of Data Mining - Fall 2022**\n",
    "\n",
    "## **Homework 5: The Marvel Universe!**\n",
    "\n",
    "**Packages that are used troughout the notebook:**"
   ]
  },
  {
   "cell_type": "code",
   "execution_count": 38,
   "metadata": {},
   "outputs": [],
   "source": [
    "# For data analysis and manipulation\n",
    "import pandas as pd\n",
    "import numpy as np\n",
    "\n",
    "# For graph representation and algos\n",
    "import networkx as nx\n",
    "\n",
    "# Utils\n",
    "from tqdm import tqdm\n",
    "import sys\n",
    "from tabulate import tabulate\n",
    "\n",
    "# For plotting\n",
    "import plotly.express as px\n",
    "import plotly.graph_objects as go"
   ]
  },
  {
   "attachments": {},
   "cell_type": "markdown",
   "metadata": {},
   "source": [
    "## 1. Data"
   ]
  },
  {
   "attachments": {},
   "cell_type": "markdown",
   "metadata": {},
   "source": [
    "### Matching hero names\n",
    "Here we examine and prepare the data so that the hero names match between the two datasets. "
   ]
  },
  {
   "cell_type": "code",
   "execution_count": 2,
   "metadata": {},
   "outputs": [],
   "source": [
    "# Load data and strip forward slashes and whitespace\n",
    "nodes = pd.read_csv('data/nodes.csv').applymap(lambda x: x.rstrip('/').strip())\n",
    "edges = pd.read_csv('data/edges.csv').applymap(lambda x: x.rstrip('/').strip())\n",
    "network = pd.read_csv('data/hero-network.csv').applymap(lambda x: x.rstrip('/').strip())"
   ]
  },
  {
   "cell_type": "code",
   "execution_count": 3,
   "metadata": {},
   "outputs": [
    {
     "data": {
      "text/plain": [
       "(6439, 6439, 6421)"
      ]
     },
     "execution_count": 3,
     "metadata": {},
     "output_type": "execute_result"
    }
   ],
   "source": [
    "# Unique heroes in each dataframe\n",
    "node_heroes = set(nodes[nodes['type'] == 'hero']['node'])\n",
    "edge_heroes = set(edges['hero'])\n",
    "network_heroes = set(pd.concat([network['hero1'], network['hero2']]))\n",
    "\n",
    "# Number of unique heroes in each dataframe\n",
    "len(node_heroes), len(edge_heroes), len(network_heroes)"
   ]
  },
  {
   "attachments": {},
   "cell_type": "markdown",
   "metadata": {},
   "source": [
    "We would like to have each hero in edges and network represented in the nodes dataframe. So let's see which ones do not have a match in the nodes dataframe."
   ]
  },
  {
   "cell_type": "code",
   "execution_count": 4,
   "metadata": {},
   "outputs": [
    {
     "name": "stdout",
     "output_type": "stream",
     "text": [
      "Heroes in edges but not in nodes: {'SPIDER-MAN/PETER PARKER'}\n",
      "Heroes in nodes but not in edges: {'SPIDER-MAN/PETER PARKERKER'}\n"
     ]
    }
   ],
   "source": [
    "print('Heroes in edges but not in nodes:', edge_heroes - node_heroes)\n",
    "print('Heroes in nodes but not in edges:', node_heroes - edge_heroes)"
   ]
  },
  {
   "cell_type": "code",
   "execution_count": 5,
   "metadata": {},
   "outputs": [
    {
     "name": "stdout",
     "output_type": "stream",
     "text": [
      "Heroes in network but not in nodes: {'SPIDER-MAN/PETER PAR'}\n"
     ]
    }
   ],
   "source": [
    "# Fix spiderman's name in nodes\n",
    "nodes.loc[nodes['node'] == 'SPIDER-MAN/PETER PARKERKER', 'node'] = 'SPIDER-MAN/PETER PARKER'\n",
    "\n",
    "# Update the heroe set for nodes\n",
    "node_heroes = set(nodes[nodes['type'] == 'hero']['node'])\n",
    "\n",
    "# Now let's check the network dataframe\n",
    "print('Heroes in network but not in nodes:', network_heroes - node_heroes)"
   ]
  },
  {
   "cell_type": "code",
   "execution_count": 6,
   "metadata": {},
   "outputs": [
    {
     "name": "stdout",
     "output_type": "stream",
     "text": [
      "Number of heroes in nodes but not in network: 18\n"
     ]
    }
   ],
   "source": [
    "# Fix spiderman's name in network\n",
    "network = network.applymap(lambda x: 'SPIDER-MAN/PETER PARKER' if x == 'SPIDER-MAN/PETER PAR' else x)\n",
    "network_heroes = set(pd.concat([network['hero1'], network['hero2']]))\n",
    "\n",
    "# Now we have every hero in the nodes dataframe\n",
    "print('Number of heroes in nodes but not in network:', len(node_heroes - network_heroes))"
   ]
  },
  {
   "attachments": {},
   "cell_type": "markdown",
   "metadata": {},
   "source": [
    "We have processed the data such that all the heroes exist in the nodes df. Now let's drop the rows in the network df which have the same hero pair."
   ]
  },
  {
   "cell_type": "code",
   "execution_count": 7,
   "metadata": {},
   "outputs": [
    {
     "data": {
      "text/plain": [
       "(12651, 12651, 0)"
      ]
     },
     "execution_count": 7,
     "metadata": {},
     "output_type": "execute_result"
    }
   ],
   "source": [
    "# drop same hero pairs\n",
    "network = network[network['hero1'] != network['hero2']].reset_index(drop=True)\n",
    "\n",
    "# Are the comics in the nodes and edges matching?\n",
    "nodes_comics = set(nodes[nodes['type'] == 'comic']['node'])\n",
    "edges_comics = set(edges['comic'])\n",
    "len(nodes_comics), len(edges_comics), len(nodes_comics ^ edges_comics) # The comics are matching"
   ]
  },
  {
   "attachments": {},
   "cell_type": "markdown",
   "metadata": {},
   "source": [
    "Also, we have discovered that there are some heroes and comics that share the same name. We will add \"_c\" to the comic name so that it will have its own unique node for the upcoming analysis."
   ]
  },
  {
   "cell_type": "code",
   "execution_count": 8,
   "metadata": {},
   "outputs": [
    {
     "data": {
      "text/plain": [
       "2078     BLADE\n",
       "13362    REBEL\n",
       "13704    SABRE\n",
       "Name: node, dtype: object"
      ]
     },
     "execution_count": 8,
     "metadata": {},
     "output_type": "execute_result"
    }
   ],
   "source": [
    "iffy_comics = nodes.loc[nodes['node'].duplicated(keep=False) & (nodes['type'] == 'comic'), 'node']\n",
    "iffy_comics"
   ]
  },
  {
   "cell_type": "code",
   "execution_count": 9,
   "metadata": {},
   "outputs": [],
   "source": [
    "nodes.loc[nodes['node'].isin(iffy_comics) & (nodes['type'] == 'comic'), 'node'] += '_c'\n",
    "edges.loc[edges['comic'].isin(iffy_comics), 'comic'] += '_c'"
   ]
  },
  {
   "cell_type": "code",
   "execution_count": 10,
   "metadata": {},
   "outputs": [
    {
     "name": "stderr",
     "output_type": "stream",
     "text": [
      "100%|██████████| 12651/12651 [00:01<00:00, 7702.02it/s] \n"
     ]
    },
    {
     "data": {
      "text/plain": [
       "((579171, 3), (572235, 2))"
      ]
     },
     "execution_count": 10,
     "metadata": {},
     "output_type": "execute_result"
    }
   ],
   "source": [
    "from itertools import combinations\n",
    "from tqdm import tqdm\n",
    "\n",
    "# Here we create are own network dataframe\n",
    "my_network = []\n",
    "\n",
    "for comic, heroes in tqdm(edges.groupby('comic')['hero']):\n",
    "    heroes = sorted(heroes)\n",
    "    for combo in combinations(heroes, 2):\n",
    "\n",
    "        my_network.append({'hero1': combo[0], 'hero2': combo[1], 'comic': comic})\n",
    "\n",
    "my_network = pd.DataFrame(my_network)\n",
    "my_network.shape, network.shape"
   ]
  },
  {
   "attachments": {},
   "cell_type": "markdown",
   "metadata": {},
   "source": [
    "Lastly, we have discovered that there are some heroes and comics that share the same name. We will add \"_c\" to the comic name so that it will have its own unique node for the upcoming analysis."
   ]
  },
  {
   "cell_type": "code",
   "execution_count": 11,
   "metadata": {},
   "outputs": [],
   "source": [
    "# Delete unnecessary variables\n",
    "del combo, comic, edge_heroes, edges_comics, heroes, iffy_comics, network_heroes, node_heroes, nodes_comics"
   ]
  },
  {
   "attachments": {},
   "cell_type": "markdown",
   "metadata": {},
   "source": [
    "## 2. Backend Implementation\n",
    "We start by creating a list of heroes and their number of appearances so that we can get the top N heroes when needed."
   ]
  },
  {
   "cell_type": "code",
   "execution_count": 12,
   "metadata": {},
   "outputs": [
    {
     "data": {
      "text/plain": [
       "hero\n",
       "SPIDER-MAN/PETER PARKER    1577\n",
       "CAPTAIN AMERICA            1334\n",
       "IRON MAN/TONY STARK        1150\n",
       "THING/BENJAMIN J. GR        963\n",
       "THOR/DR. DONALD BLAK        956\n",
       "dtype: int64"
      ]
     },
     "execution_count": 12,
     "metadata": {},
     "output_type": "execute_result"
    }
   ],
   "source": [
    "heroes = edges.groupby('hero').size().sort_values(ascending=False)\n",
    "heroes.head(5)"
   ]
  },
  {
   "attachments": {},
   "cell_type": "markdown",
   "metadata": {},
   "source": [
    "#### Creating the **First Graph**"
   ]
  },
  {
   "attachments": {},
   "cell_type": "markdown",
   "metadata": {},
   "source": [
    "We have a bit of an interesting idea to readjust the weights of the edges. You have asked us to have a lower weight/cost for heroes that appear together more frequently. We will add a **small twist** to this idea. These weights will be adjusted based on the number of appearances of the heroes. We will use the following formula to calculate the weight of an edge:\n",
    "$$\n",
    "w_{ij} = \\frac{|c \\in C: h_i \\in c| + |c \\in C: h_j \\in c|}{|c \\in C: h_i, h_j \\in c|}\n",
    "$$\n",
    "where $C$ is the set of all comics, $h_i$ and $h_j$ are two arbitrary heroes in the Marvel Universe. In other words, weight $w_{ij}$ is the inverse of the probability that the two heroes appear together."
   ]
  },
  {
   "cell_type": "code",
   "execution_count": 13,
   "metadata": {},
   "outputs": [
    {
     "data": {
      "text/html": [
       "<div>\n",
       "<style scoped>\n",
       "    .dataframe tbody tr th:only-of-type {\n",
       "        vertical-align: middle;\n",
       "    }\n",
       "\n",
       "    .dataframe tbody tr th {\n",
       "        vertical-align: top;\n",
       "    }\n",
       "\n",
       "    .dataframe thead th {\n",
       "        text-align: right;\n",
       "    }\n",
       "</style>\n",
       "<table border=\"1\" class=\"dataframe\">\n",
       "  <thead>\n",
       "    <tr style=\"text-align: right;\">\n",
       "      <th></th>\n",
       "      <th>hero1</th>\n",
       "      <th>hero2</th>\n",
       "      <th>colab</th>\n",
       "      <th>tot</th>\n",
       "      <th>weight</th>\n",
       "    </tr>\n",
       "  </thead>\n",
       "  <tbody>\n",
       "    <tr>\n",
       "      <th>106165</th>\n",
       "      <td>HUMAN TORCH/JOHNNY S</td>\n",
       "      <td>THING/BENJAMIN J. GR</td>\n",
       "      <td>724</td>\n",
       "      <td>1849</td>\n",
       "      <td>2.553867</td>\n",
       "    </tr>\n",
       "    <tr>\n",
       "      <th>105742</th>\n",
       "      <td>HUMAN TORCH/JOHNNY S</td>\n",
       "      <td>MR. FANTASTIC/REED R</td>\n",
       "      <td>694</td>\n",
       "      <td>1740</td>\n",
       "      <td>2.507205</td>\n",
       "    </tr>\n",
       "    <tr>\n",
       "      <th>141154</th>\n",
       "      <td>MR. FANTASTIC/REED R</td>\n",
       "      <td>THING/BENJAMIN J. GR</td>\n",
       "      <td>690</td>\n",
       "      <td>1817</td>\n",
       "      <td>2.633333</td>\n",
       "    </tr>\n",
       "    <tr>\n",
       "      <th>109418</th>\n",
       "      <td>INVISIBLE WOMAN/SUE</td>\n",
       "      <td>MR. FANTASTIC/REED R</td>\n",
       "      <td>682</td>\n",
       "      <td>1616</td>\n",
       "      <td>2.369501</td>\n",
       "    </tr>\n",
       "    <tr>\n",
       "      <th>105475</th>\n",
       "      <td>HUMAN TORCH/JOHNNY S</td>\n",
       "      <td>INVISIBLE WOMAN/SUE</td>\n",
       "      <td>675</td>\n",
       "      <td>1648</td>\n",
       "      <td>2.441481</td>\n",
       "    </tr>\n",
       "  </tbody>\n",
       "</table>\n",
       "</div>"
      ],
      "text/plain": [
       "                       hero1                 hero2  colab   tot    weight\n",
       "106165  HUMAN TORCH/JOHNNY S  THING/BENJAMIN J. GR    724  1849  2.553867\n",
       "105742  HUMAN TORCH/JOHNNY S  MR. FANTASTIC/REED R    694  1740  2.507205\n",
       "141154  MR. FANTASTIC/REED R  THING/BENJAMIN J. GR    690  1817  2.633333\n",
       "109418   INVISIBLE WOMAN/SUE  MR. FANTASTIC/REED R    682  1616  2.369501\n",
       "105475  HUMAN TORCH/JOHNNY S   INVISIBLE WOMAN/SUE    675  1648  2.441481"
      ]
     },
     "execution_count": 13,
     "metadata": {},
     "output_type": "execute_result"
    }
   ],
   "source": [
    "edges_weighted = my_network.groupby(['hero1', 'hero2']).size().reset_index().sort_values(by=0, ascending=False)\n",
    "edges_weighted.columns = ['hero1', 'hero2', 'colab']\n",
    "\n",
    "edges_weighted['tot'] = edges_weighted['hero1'].map(heroes) + edges_weighted['hero2'].map(heroes)\n",
    "edges_weighted['weight'] = edges_weighted['tot'] / edges_weighted['colab']\n",
    "edges_weighted.head(5)"
   ]
  },
  {
   "cell_type": "code",
   "execution_count": 14,
   "metadata": {},
   "outputs": [
    {
     "data": {
      "text/plain": [
       "(6421, 171644, 6421, 171644)"
      ]
     },
     "execution_count": 14,
     "metadata": {},
     "output_type": "execute_result"
    }
   ],
   "source": [
    "G1 = nx.from_pandas_edgelist(edges_weighted, 'hero1', 'hero2', 'weight')\n",
    "G1.name = 'First Graph'\n",
    "G1.number_of_nodes(), G1.number_of_edges(), pd.concat([edges_weighted['hero1'], edges_weighted['hero2']]).nunique(), edges_weighted.shape[0]"
   ]
  },
  {
   "attachments": {},
   "cell_type": "markdown",
   "metadata": {},
   "source": [
    "#### Creating the **Second Graph**"
   ]
  },
  {
   "cell_type": "code",
   "execution_count": 15,
   "metadata": {},
   "outputs": [
    {
     "data": {
      "text/plain": [
       "(19090, 96104, 19090, 96104)"
      ]
     },
     "execution_count": 15,
     "metadata": {},
     "output_type": "execute_result"
    }
   ],
   "source": [
    "G2 = nx.from_pandas_edgelist(edges, 'hero', 'comic')\n",
    "G2.name = 'Second Graph'\n",
    "G2.number_of_nodes(), G2.number_of_edges(), nodes.shape[0], edges.shape[0]"
   ]
  },
  {
   "cell_type": "code",
   "execution_count": 16,
   "metadata": {},
   "outputs": [
    {
     "data": {
      "text/plain": [
       "(19090, 96104, 19090, 96104)"
      ]
     },
     "execution_count": 16,
     "metadata": {},
     "output_type": "execute_result"
    }
   ],
   "source": [
    "G2.add_nodes_from(nodes[nodes['type'] == 'hero']['node'], type='hero')\n",
    "G2.add_nodes_from(nodes[nodes['type'] == 'comic']['node'], type='comic')\n",
    "G2.number_of_nodes(), G2.number_of_edges(), nodes.shape[0], edges.shape[0]"
   ]
  },
  {
   "cell_type": "code",
   "execution_count": 17,
   "metadata": {},
   "outputs": [
    {
     "data": {
      "text/plain": [
       "(6049, 12651)"
      ]
     },
     "execution_count": 17,
     "metadata": {},
     "output_type": "execute_result"
    }
   ],
   "source": [
    "# Global variable to use inside functinos\n",
    "COMICS = [node for node in G2.nodes if G2.nodes[node]['type'] == 'comic']\n",
    "\n",
    "heroes[:10].index[0] in nx.neighbors(G2, COMICS[0])\n",
    "comics10 = [node for node in G2.nodes if G2.nodes[node]['type'] == 'comic' and len(set(nx.neighbors(G2, node)) & set(heroes[:10].index)) > 0]\n",
    "len(comics10), len(COMICS)"
   ]
  },
  {
   "attachments": {},
   "cell_type": "markdown",
   "metadata": {},
   "source": [
    "### Functionality 1 - extract the graph's features"
   ]
  },
  {
   "cell_type": "code",
   "execution_count": 65,
   "metadata": {},
   "outputs": [],
   "source": [
    "def graph_summary(G: nx.Graph, N: int = 10, verbose = True):\n",
    "    \"\"\"Prints some basic features of the graph.\n",
    "    Args:\n",
    "        G (nx.Graph): The graph.\n",
    "        type (int): The type of graph. Can be 1 or 2.\n",
    "        N (int): Denotes the top N heroes to consider.\n",
    "    \"\"\"\n",
    "    \n",
    "    if G.name not in ['First Graph', 'Second Graph']:\n",
    "        ValueError('The graph name is not valid. It must be either \"First Graph\" or \"Second Graph\".')\n",
    "\n",
    "    if verbose:\n",
    "        print(f'Extracting features for the {G.name}...')\n",
    "    subnodes = heroes.head(N).index\n",
    "\n",
    "    # Adding comic nodes if Graph 2\n",
    "    if G.name == 'Second Graph':\n",
    "        comics = [node for node in G2.nodes if \n",
    "            G2.nodes[node]['type'] == 'comic' and                   # if the node type is comic\n",
    "            len(set(nx.neighbors(G2, node)) & set(subnodes)) > 0]   # and the comic contains one of the top N heroes\n",
    "        \n",
    "        subnodes = [*subnodes, *comics]                             # Add comic nodes to subnodes \n",
    "        \n",
    "    # Create subgraph\n",
    "    subg = G.subgraph(subnodes)\n",
    "\n",
    "    num_nodes = subg.number_of_nodes()\n",
    "    num_edges = subg.number_of_edges()\n",
    "    nwdensity = nx.density(subg)\n",
    "    avedegree = np.mean(list(dict(subg.degree()).values()))\n",
    "    is_sparse = nwdensity < 0.1\n",
    "\n",
    "    q95 = np.quantile(list(dict(subg.degree()).values()), 0.99)\n",
    "    hubnodes = [node for node, degree in subg.degree() if degree >= q95]\n",
    "\n",
    "    info = {\n",
    "        'Number of nodes': num_nodes,\n",
    "        'Number of collaborations': num_edges,\n",
    "        'Network density': nwdensity,\n",
    "        'Average degree': avedegree,\n",
    "        'Hub nodes': hubnodes,\n",
    "        'Sparsity': is_sparse,\n",
    "        'Degree distribution': dict(subg.degree())\n",
    "    }\n",
    "\n",
    "    if G.name == 'First Graph':\n",
    "        info['Graph Specific Plot Data'] = dict(subg.degree(subnodes))\n",
    "        info['Graph Specific Plot Name'] = 'Number of collaborations for each hero'\n",
    "    else:\n",
    "        info['Graph Specific Plot Data'] = dict(subg.degree(comics))\n",
    "        info['Graph Specific Plot Name'] = 'Number of heroes in each comic'\n",
    "\n",
    "\n",
    "    # Reporting values if verbose\n",
    "    if not verbose:\n",
    "        return info\n",
    "\n",
    "    print('Number of nodes:', num_nodes)\n",
    "    print(f'Network density: {nwdensity:.4f}')\n",
    "    print(f'Average degree: {avedegree:.4f}')\n",
    "\n",
    "    print('Hub nodes:', '\\t\\t'.join(hubnodes))\n",
    "    print('The network is sparse:', is_sparse)\n",
    "\n",
    "    print('Network degree distribution:')\n",
    "    print(pd.DataFrame(dict(subg.degree()).values()).describe().T)\n",
    "\n",
    "    return info"
   ]
  },
  {
   "attachments": {},
   "cell_type": "markdown",
   "metadata": {},
   "source": [
    "### Functionality 2 - Find top superheroes!"
   ]
  },
  {
   "cell_type": "code",
   "execution_count": 95,
   "metadata": {},
   "outputs": [
    {
     "name": "stdout",
     "output_type": "stream",
     "text": [
      "CAPTAIN AMERICA's DegreeCentrality: 0.2989\n"
     ]
    },
    {
     "data": {
      "text/plain": [
       "{'Average metric': 0.008327620478172043,\n",
       " 'Metric of node': 0.29890965732087227,\n",
       " 'Name of metric': 'DegreeCentrality'}"
      ]
     },
     "execution_count": 95,
     "metadata": {},
     "output_type": "execute_result"
    }
   ],
   "source": [
    "def top_heroes(G: nx.Graph, node: str, metric: int, N: int = 10, verbose = True):\n",
    "    \"\"\"Prints the top N heroes based on the given metric.\n",
    "    Args:\n",
    "        G (nx.Graph): The graph.\n",
    "        node (str): The node (hero or comic).\n",
    "        metric (int): Integer denoting the metric. Can be 1, 2, 3 or 4, that corresponds to:\n",
    "            1: Betweeness\n",
    "            2: PageRank\n",
    "            3: ClosenessCentrality\n",
    "            4: DegreeCentrality\n",
    "        N (int): Denotes the top N heroes to consider.\n",
    "    \"\"\"\n",
    "    if metric not in [1, 2, 3, 4]:\n",
    "        raise ValueError('metric must be 1, 2, 3 or 4')\n",
    "    \n",
    "    measure = ['Betweeness', 'PageRank', 'ClosenessCentrality', 'DegreeCentrality']\n",
    "    subnodes = heroes[:N].index\n",
    "    subg = G.subgraph(subnodes)\n",
    "\n",
    "    if metric == 1:\n",
    "        res = nx.betweenness_centrality(subg, normalized=True, weight='weight')\n",
    "        print(f'{node}\\'s {measure[metric-1]}: {res[node]:.4f}') if verbose else None\n",
    "    elif metric == 2:\n",
    "        res = nx.pagerank(G, weight='weight')\n",
    "        print(f'{node}\\'s {measure[metric-1]}: {res[node]:.4f}') if verbose else None\n",
    "    elif metric == 3:\n",
    "        res = nx.closeness_centrality(G, u=node)\n",
    "        print(f'{node}\\'s {measure[metric-1]}: {res:.4f}') if verbose else None\n",
    "    else:\n",
    "        res = nx.degree_centrality(G)\n",
    "        print(f'{node}\\'s {measure[metric-1]}: {res[node]:.4f}') if verbose else None\n",
    "\n",
    "    # print(res)\n",
    "    if metric == 3:\n",
    "        info = {\n",
    "            'Metric of node': res,\n",
    "            'Name of metric': measure[metric-1],\n",
    "        }\n",
    "    else:\n",
    "        info = {\n",
    "            'Average metric': np.mean(list(res.values())),\n",
    "            'Metric of node': res[node],\n",
    "            'Name of metric': measure[metric-1],\n",
    "        }\n",
    "\n",
    "\n",
    "    return info\n",
    "\n",
    "# top_heroes(G1, heroes.index[1], 1, 50)\n",
    "# top_heroes(G1, heroes.index[1], 2, 50)\n",
    "# top_heroes(G1, heroes.index[1], 3, 50)\n",
    "top_heroes(G1, heroes.index[1], 4, 50)"
   ]
  },
  {
   "attachments": {},
   "cell_type": "markdown",
   "metadata": {},
   "source": [
    "### Functionality 3 - Shortest ordered Route"
   ]
  },
  {
   "cell_type": "code",
   "execution_count": 236,
   "metadata": {},
   "outputs": [
    {
     "name": "stdout",
     "output_type": "stream",
     "text": [
      "Graph named 'Second Graph' with 19090 nodes and 96104 edges\n",
      "Shortest route: ['SPIDER-MAN/PETER PARKER', 'A 11', 'CAPTAIN AMERICA'] ['CAPTAIN AMERICA', \"A '00\", 'IRON MAN/TONY STARK'] ['IRON MAN/TONY STARK', 'A 1', 'THING/BENJAMIN J. GR'] ['THING/BENJAMIN J. GR', 'A 1', 'THOR/DR. DONALD BLAK'] ['THOR/DR. DONALD BLAK', 'A 1', 'HUMAN TORCH/JOHNNY S'] ['HUMAN TORCH/JOHNNY S', 'A 1', 'MR. FANTASTIC/REED R'] ['MR. FANTASTIC/REED R', 'A 1', 'HULK/DR. ROBERT BRUC'] ['HULK/DR. ROBERT BRUC', 'A3 10', 'WOLVERINE/LOGAN'] ['WOLVERINE/LOGAN', 'A3 10', 'INVISIBLE WOMAN/SUE']\n"
     ]
    }
   ],
   "source": [
    "def shortest_route(G: nx.Graph, hero_seq: list, N: int = 10, verbose = True):\n",
    "    \"\"\"Prints the shortest route from the first hero to the last hero in the list.\n",
    "    Args:\n",
    "        G (nx.Graph): The graph.\n",
    "        hero_seq (list): The sequence of heroes to visit.\n",
    "        N (int): Denotes the top N heroes to consider.\n",
    "    \"\"\"\n",
    "    if G.name not in ['Second Graph']:\n",
    "        raise ValueError('Graph must be the second graph')\n",
    "\n",
    "    subheroes = heroes[:N].index\n",
    "\n",
    "    # Create list of comics by checking the node type and if it has a neighbor that belongs to the top N heroes\n",
    "    comics = [node for node in G2.nodes if G2.nodes[node]['type'] == 'comic' and len(set(G2.neighbors(node)).intersection(set(subheroes))) > 0]\n",
    "\n",
    "    # Create subgraph\n",
    "    subg = G.subgraph([*subheroes, *comics])\n",
    "\n",
    "    # Check if things are going well\n",
    "    print(G) if verbose else None\n",
    "\n",
    "    # Check if the sequence of heroes are in the top N heroes\n",
    "    for hero in hero_seq:\n",
    "        if hero not in subg.nodes:\n",
    "            print(f'A hero in the sequence is not a top {N} hero. Your lame hero is {hero}. Please try again with more popular heroes or a larger N.')\n",
    "            print('Heroes must be one of the following:', *subg.nodes)\n",
    "            return\n",
    "\n",
    "    paths = []\n",
    "    for i in range(len(subheroes)-1):\n",
    "        paths.append(nx.shortest_path(subg, source=subheroes[i], target=subheroes[i+1]))\n",
    "\n",
    "    print('Shortest route:', *paths)\n",
    "\n",
    "    info = {\n",
    "        'Shortest route': paths,\n",
    "        'Subgraph': subg,\n",
    "        'Hero sequence': hero_seq\n",
    "    }\n",
    "\n",
    "    return info\n",
    "# TODO: There could be cases with no paths find those :/\n",
    "info = shortest_route(G2, heroes[:5].index, 10)"
   ]
  },
  {
   "attachments": {},
   "cell_type": "markdown",
   "metadata": {},
   "source": [
    "### Functionality 4 - Disconnecting Graphs"
   ]
  },
  {
   "cell_type": "code",
   "execution_count": 290,
   "metadata": {},
   "outputs": [],
   "source": [
    "from networkx.algorithms.connectivity.utils import build_auxiliary_edge_connectivity, build_auxiliary_node_connectivity\n",
    "from networkx.algorithms.flow import build_residual_network, edmonds_karp\n",
    "from networkx.algorithms.connectivity.cuts import minimum_st_edge_cut\n",
    "\n"
   ]
  },
  {
   "cell_type": "code",
   "execution_count": 299,
   "metadata": {},
   "outputs": [
    {
     "name": "stdout",
     "output_type": "stream",
     "text": [
      "Number of links to cut to disconnect ZABU and ROM, SPACEKNIGHT: 106\n",
      "Path exists between ZABU and ROM, SPACEKNIGHT: False\n"
     ]
    }
   ],
   "source": [
    "# Functionality 4 - Disconnecting Graphs\n",
    "# Input:\n",
    "\n",
    "# The graph data\n",
    "# heroA: a superhero to which will relate sub-graph G_a\n",
    "# heroB: a superhero to which will relate sub-graph G_b\n",
    "# N: denoting the top N heroes that their data should be considered\n",
    "# Output:\n",
    "\n",
    "# The minimum number of links (by considering their weights) required to disconnect the original graph in two disconnected subgraphs: G_a and G_b.\n",
    "\n",
    "def disconnecting_graphs(G: nx.Graph, heroA: str, heroB: str, N: int = 10, verbose: bool = False) -> dict:\n",
    "    \"\"\"Prints the minimum number of links required to disconnect the original graph in two disconnected subgraphs.\n",
    "    Args:\n",
    "        G (nx.Graph): The graph.\n",
    "        heroA (str): The first hero.\n",
    "        heroB (str): The second hero.\n",
    "        N (int): Denotes the top N heroes to consider.\n",
    "    \"\"\"\n",
    "\n",
    "    subg = G.subgraph(heroes.index[:N])\n",
    "    \n",
    "    cutset = nx.minimum_edge_cut(subg, heroA, heroB)\n",
    "    # cutset = minimum_edge_cut(subg, heroA, heroB)\n",
    "    print(f'Number of links to cut to disconnect {heroA} and {heroB}: {len(cutset)}') if verbose else None\n",
    "\n",
    "    # Check if path exists after cutting the links\n",
    "    alteredg = subg.copy()\n",
    "    alteredg.remove_edges_from(cutset)\n",
    "    print(f'Path exists between {heroA} and {heroB}: {nx.has_path(alteredg, heroA, heroB)}') if verbose else None\n",
    "\n",
    "    info = {'Number of links to cut': len(cutset),\n",
    "            'Cutset': cutset,\n",
    "            'Subgraph': subg,\n",
    "            'HeroA': heroA,\n",
    "            'HeroB': heroB\n",
    "    }\n",
    "\n",
    "    return info\n",
    "    \n",
    "info = disconnecting_graphs(G1, heroes.index[100], heroes.index[200], 300, verbose=True)\n",
    "None"
   ]
  },
  {
   "attachments": {},
   "cell_type": "markdown",
   "metadata": {},
   "source": [
    "### Functionality 5 - Extracting Communities"
   ]
  },
  {
   "cell_type": "code",
   "execution_count": 364,
   "metadata": {},
   "outputs": [
    {
     "name": "stdout",
     "output_type": "stream",
     "text": [
      "<generator object girvan_newman at 0x7fa2ffb30c80>\n",
      "Communities:\n",
      "Community 1: SUMMERS, NATHAN CHRI IRON MAN IV/JAMES R. BOOMER/TABITHA SMITH NORRISS, SISTER BARB NELSON, FRANKLIN FOG CAPTAIN MARVEL II/MO WASP/JANET VAN DYNE QUICKSILVER/PIETRO M ICEMAN/ROBERT BOBBY NIGHTCRAWLER/KURT WA GAMBIT/REMY LEBEAU CAPTAIN AMERICA THOMPSON, EUGENE FLA ROGUE ANT-MAN/DR. HENRY J. MASTERS, ALICIA REIS THING/BENJAMIN J. GR PARKER, MAY WOLFSBANE/RAHNE SINC DR. DOOM/VICTOR VON STORM/ORORO MUNROE S IRON MAN/TONY STARK SUNSPOT/ROBERTO DACO MARVEL GIRL/JEAN GRE HUMAN TORCH/JOHNNY S DUGAN, TIMOTHY ALOYI COLOSSUS II/PETER RA MACTAGGERT, MOIRA KI SILVER SURFER/NORRIN BALDER [ASGARDIAN] HAVOK/ALEX SUMMERS USAGENT/CAPTAIN JOHN NOVA/RICHARD RIDER HULK/DR. ROBERT BRUC VOLSTAGG HOGUN [ASGARDIAN] POLARIS/LORNA DANE KINGPIN/WILSON FISK HAWK CAGE, LUKE/CARL LUCA DR. STRANGE/STEPHEN PAGE, KAREN LEEDS, BETTY BRANT JUBILEE/JUBILATION L JAMESON, J. JONAH WATSON-PARKER, MARY HERCULES [GREEK GOD] FURY, COL. NICHOLAS PSYLOCKE/ELISABETH B BINARY/CAROL DANVERS RICHARDS, FRANKLIN B MOCKINGBIRD/DR. BARB ANGEL/WARREN KENNETH NAMORITA/NITA PRENTI BANSHEE/SEAN CASSIDY SUB-MARINER/NAMOR MA WONG FANDRAL [ASGARDIAN] SHADOWCAT/KATHERINE WOLVERINE/LOGAN MIRAGE II/DANIELLE M SIF BEAST/HENRY &HANK& P CLEA MAGNETO/MAGNUS/ERIC ODIN [ASGARDIAN] VISION QUASAR III/WENDELL V KA-ZAR/KEVIN PLUNDER OSBORN, HARRY CYCLOPS/SCOTT SUMMER HUDSON, HEATHER THOR/DR. DONALD BLAK SPIDER-MAN CLONE/BEN PROFESSOR X/CHARLES BANNER, BETTY ROSS T BLACK KNIGHT V/DANE JONES, RICHARD MILHO SCARLET WITCH/WANDA MOON KNIGHT/MARC SPE CAPTAIN BRITAIN/BRIA MR. FANTASTIC/REED R FALCON/SAM WILSON LOKI [ASGARDIAN] DAREDEVIL/MATT MURDO BLACK PANTHER/T'CHAL WONDER MAN/SIMON WIL JARVIS, EDWIN INVISIBLE WOMAN/SUE SPIDER-MAN/PETER PARKER SHE-HULK/JENNIFER WA BLACK WIDOW/NATASHA CANNONBALL II/SAM GU ROBERTSON, JOE PUNISHER II/FRANK CA TIGRA/GREER NELSON CRYSTAL [INHUMAN] ROSS, GEN. THADDEUS IRON FIST/DANIEL RAN\n",
      "Community 2: SHANG-CHI\n",
      "Path exists between None and None: False\n",
      "Number of edges to cut to form communities: 40\n"
     ]
    }
   ],
   "source": [
    "from itertools import combinations\n",
    "\n",
    "def extracting_communities(G: nx.Graph, N: int = 10, hero1: str = None, hero2: str = None, verbose: bool = True, method: str = 'girvan_newman') -> dict:\n",
    "    \"\"\"Prints the minimum number of edges that should be removed to form communities and a list of communities.\n",
    "    Args:\n",
    "        G (nx.Graph): The graph.\n",
    "        N (int): Denotes the top N heroes to consider.\n",
    "        hero1 (str): The first hero.\n",
    "        hero2 (str): The second hero.\n",
    "        method (str): The method to use for extracting communities. Possible values are 'girvan_newman', 'asyn_lpa_communities', \n",
    "        'asyn_fluidc' and 'label_propagation_communities'\n",
    "    \"\"\"\n",
    "    subnodes = heroes.index[:N]\n",
    "    subg = G.subgraph(subnodes)\n",
    "\n",
    "    if method == 'girvan_newman':\n",
    "        res = nx.algorithms.community.centrality.girvan_newman(subg)\n",
    "        communities = next(res)\n",
    "    elif method == 'asyn_lpa_communities':\n",
    "        res = nx.algorithms.community.asyn_lpa_communities(subg)\n",
    "    elif method == 'asyn_fluidc':\n",
    "        res = nx.algorithms.community.asyn_fluidc(subg, k=3)\n",
    "    elif method == 'label_propagation_communities':\n",
    "        res = nx.algorithms.community.label_propagation_communities(subg)\n",
    "        communities = res\n",
    "    else:\n",
    "        print('Invalid method. Please choose one of the following: girvan_newman, asyn_lpa_communities, asyn_fluidc, label_propagation_communities')\n",
    "        return\n",
    "\n",
    "    print(res)\n",
    "\n",
    "    path_exists = False\n",
    "    for community in communities:\n",
    "        if hero1 in community and hero2 in community:\n",
    "            path_exists = True\n",
    "            break\n",
    "\n",
    "    num_edges_between_communities = 0\n",
    "    edges_removed = []\n",
    "    for community1, community2 in combinations(communities, 2):\n",
    "        for node1 in community1:\n",
    "            for node2 in community2:\n",
    "                if subg.has_edge(node1, node2):\n",
    "                    num_edges_between_communities += 1\n",
    "                    edges_removed.append((node1, node2))\n",
    "                    edges_removed.append((node2, node1))\n",
    "            \n",
    "\n",
    "    info = {\n",
    "        'Communities': communities,\n",
    "        'Subgraph': subg,\n",
    "        'Hero1': hero1,\n",
    "        'Hero2': hero2,\n",
    "        'Same community': path_exists,\n",
    "        'Edges to cut': num_edges_between_communities,\n",
    "        'Edges removed': edges_removed\n",
    "    }\n",
    "\n",
    "    if not verbose:\n",
    "        return info\n",
    "\n",
    "\n",
    "    print('Communities:') \n",
    "    for i, community in enumerate(communities):\n",
    "        print(f'Community {i+1}:', *community)\n",
    "\n",
    "    print(f'Path exists between {hero1} and {hero2}: {path_exists}')\n",
    "    print(f'Number of edges to cut to form communities: {num_edges_between_communities}')\n",
    "    return info\n",
    "\n",
    "\n",
    "extracting_communities(G1, 100, method='girvan_newman')\n",
    "None"
   ]
  },
  {
   "attachments": {},
   "cell_type": "markdown",
   "metadata": {},
   "source": [
    "## 3. Frontend Implementation"
   ]
  },
  {
   "attachments": {},
   "cell_type": "markdown",
   "metadata": {},
   "source": [
    "### Visualization 1 - Visualize some features of the network"
   ]
  },
  {
   "cell_type": "code",
   "execution_count": null,
   "metadata": {},
   "outputs": [],
   "source": [
    "info = graph_summary(G2, N=300, verbose=False)\n",
    "print(tabulate(pd.DataFrame.from_dict(info, orient='index', columns=['Value']).T[['Number of nodes', 'Number of collaborations', 'Network density', 'Average degree', 'Sparsity']], headers='keys', tablefmt='psql'))\n",
    "# This the table\n",
    "\n",
    "# Hub nodes\n",
    "print('Hub nodes:', '\\t'.join(info['Hub nodes'][:10]))\n",
    "\n",
    "# Histogram of the degree distribution with px, logaritmic scale\n",
    "fig = px.histogram(pd.DataFrame.from_dict(info['Degree distribution'], orient='index', columns=['Degree']), x='Degree', log_y=True)\n",
    "fig.update_layout(title='Degree distribution', yaxis_title='Count')\n",
    "fig.show()\n",
    "\n",
    "# Graph specific plot\n",
    "plot_data = pd.DataFrame.from_dict(info['Graph Specific Plot Data'], orient='index', columns=['Degree']).sort_values(by='Degree', ascending=False)\n",
    "plot_data = plot_data[:50] # Limiting to 50 for better visualization\n",
    "plot_data.sort_values(by='Degree', ascending=True, inplace=True)\n",
    "fig = px.bar(plot_data, x='Degree', y=plot_data.index, orientation='h')\n",
    "fig.update_layout(title=info['Graph Specific Plot Name'], yaxis_title='')\n",
    "fig.show()"
   ]
  },
  {
   "attachments": {},
   "cell_type": "markdown",
   "metadata": {},
   "source": [
    "### Visualization 2 - Visualize centrality measure"
   ]
  },
  {
   "cell_type": "code",
   "execution_count": 98,
   "metadata": {},
   "outputs": [
    {
     "name": "stdout",
     "output_type": "stream",
     "text": [
      "╒════════════════╤══════════════════════╕\n",
      "│                │ Value                │\n",
      "╞════════════════╪══════════════════════╡\n",
      "│ Average metric │ 0.029676870748299323 │\n",
      "├────────────────┼──────────────────────┤\n",
      "│ Metric of node │ 0.179421768707483    │\n",
      "├────────────────┼──────────────────────┤\n",
      "│ Name of metric │ Betweeness           │\n",
      "╘════════════════╧══════════════════════╛\n"
     ]
    }
   ],
   "source": [
    "info = top_heroes(G1, heroes.index[1], 1, 50, verbose=False)\n",
    "print(tabulate(pd.DataFrame.from_dict(info, orient='index'), headers=['Value'], tablefmt='fancy_grid'))"
   ]
  },
  {
   "attachments": {},
   "cell_type": "markdown",
   "metadata": {},
   "source": [
    "### Visualization 3 - Visualize the shortest-ordered route"
   ]
  },
  {
   "cell_type": "code",
   "execution_count": 393,
   "metadata": {},
   "outputs": [
    {
     "name": "stdout",
     "output_type": "stream",
     "text": [
      "Shortest route: ['SPIDER-MAN/PETER PARKER', 'A 11', 'CAPTAIN AMERICA'] ['CAPTAIN AMERICA', \"A '00\", 'IRON MAN/TONY STARK'] ['IRON MAN/TONY STARK', 'A 1', 'THING/BENJAMIN J. GR'] ['THING/BENJAMIN J. GR', 'A 1', 'THOR/DR. DONALD BLAK'] ['THOR/DR. DONALD BLAK', 'A 1', 'HUMAN TORCH/JOHNNY S'] ['HUMAN TORCH/JOHNNY S', 'A 1', 'MR. FANTASTIC/REED R'] ['MR. FANTASTIC/REED R', 'A 1', 'HULK/DR. ROBERT BRUC'] ['HULK/DR. ROBERT BRUC', 'A3 10', 'WOLVERINE/LOGAN'] ['WOLVERINE/LOGAN', 'A3 10', 'INVISIBLE WOMAN/SUE']\n",
      "+------------+-----------+-----------+-----------+-----------+-----------+-----------+-----------+-----------+-----------+\n",
      "|            | Comic 1   | Comic 2   | Comic 3   | Comic 4   | Comic 5   | Comic 6   | Comic 7   | Comic 8   | Comic 9   |\n",
      "|------------+-----------+-----------+-----------+-----------+-----------+-----------+-----------+-----------+-----------|\n",
      "| Comic Name | A 11      | A '00     | A 1       | A 1       | A 1       | A 1       | A 1       | A3 10     | A3 10     |\n",
      "+------------+-----------+-----------+-----------+-----------+-----------+-----------+-----------+-----------+-----------+\n",
      "Im done with the node positions\n",
      "Im done with node adjacencies and node text\n"
     ]
    },
    {
     "data": {
      "application/vnd.plotly.v1+json": {
       "config": {
        "plotlyServerURL": "https://plot.ly"
       },
       "data": [
        {
         "hoverinfo": "none",
         "line": {
          "color": "#888",
          "width": 0.5
         },
         "mode": "lines",
         "type": "scatter",
         "x": [
          -0.051797110174388136,
          0.4241565109901641,
          null,
          -0.051797110174388136,
          -0.5061664003873418,
          null,
          0.1858367162127391,
          -0.17414579789222606,
          null,
          0.1677727265773677,
          0.7532420526832927,
          null,
          0.1677727265773677,
          -0.17414579789222606,
          null,
          0.24395615291881062,
          0.7532420526832927,
          null,
          0.24395615291881062,
          -0.17414579789222606,
          null,
          -0.4943895635917647,
          -0.17414579789222606,
          null,
          0.6383652513293601,
          -0.17414579789222606,
          null,
          -0.17723927658498503,
          -0.17414579789222606,
          null,
          0.4241565109901641,
          -0.17414579789222606,
          null
         ],
         "y": [
          0.1609355399978513,
          -0.2955495884696175,
          null,
          0.1609355399978513,
          0.5759476716753579,
          null,
          0.6272426144483421,
          0.07007715072812237,
          null,
          -0.19620854285355635,
          -0.27916444046155064,
          null,
          -0.19620854285355635,
          0.07007715072812237,
          null,
          -0.49928490295533784,
          -0.27916444046155064,
          null,
          -0.49928490295533784,
          0.07007715072812237,
          null,
          -0.29941831010208714,
          0.07007715072812237,
          null,
          0.20532447609722226,
          0.07007715072812237,
          null,
          0.7206494650010026,
          0.07007715072812237,
          null,
          -0.2955495884696175,
          0.07007715072812237,
          null
         ]
        },
        {
         "hoverinfo": "none",
         "line": {
          "color": "red",
          "width": 2
         },
         "mode": "lines",
         "type": "scatter",
         "x": [
          -0.051797110174388136,
          -0.6633029660162334,
          null,
          -0.051797110174388136,
          0.1858367162127391,
          null,
          -0.051797110174388136,
          0.24395615291881062,
          null,
          -0.051797110174388136,
          -0.17723927658498503,
          null,
          -0.051797110174388136,
          -0.4943895635917647,
          null,
          -0.051797110174388136,
          0.1677727265773677,
          null,
          0.6537117039352045,
          0.4241565109901641,
          null,
          0.6537117039352045,
          0.24395615291881062,
          null,
          -0.5061664003873418,
          -0.17414579789222606,
          null,
          0.6383652513293601,
          0.7532420526832927,
          null,
          -0.6633029660162334,
          -0.17414579789222606,
          null,
          0.7532420526832927,
          0.4241565109901641,
          null,
          -1,
          -0.17414579789222606,
          null
         ],
         "y": [
          0.1609355399978513,
          0.24194627269656635,
          null,
          0.1609355399978513,
          0.6272426144483421,
          null,
          0.1609355399978513,
          -0.49928490295533784,
          null,
          0.1609355399978513,
          0.7206494650010026,
          null,
          0.1609355399978513,
          -0.29941831010208714,
          null,
          0.1609355399978513,
          -0.19620854285355635,
          null,
          -0.8944971540592538,
          -0.2955495884696175,
          null,
          -0.8944971540592538,
          -0.49928490295533784,
          null,
          0.5759476716753579,
          0.07007715072812237,
          null,
          0.20532447609722226,
          -0.27916444046155064,
          null,
          0.24194627269656635,
          0.07007715072812237,
          null,
          -0.27916444046155064,
          -0.2955495884696175,
          null,
          -0.13800025174306044,
          0.07007715072812237,
          null
         ]
        },
        {
         "hoverinfo": "text",
         "marker": {
          "color": [
           "#447BBE",
           "#F3A5AA",
           "#DF1F2D",
           "#447BBE",
           "#DF1F2D",
           "#DF1F2D",
           "#F3A5AA",
           "#DF1F2D",
           "#F3A5AA",
           "#F3A5AA",
           "#447BBE",
           "#F3A5AA",
           "#DF1F2D",
           "#447BBE"
          ],
          "line": {
           "width": 2
          },
          "size": 10
         },
         "mode": "markers",
         "text": [
          "A 1: comic",
          "HUMAN TORCH/JOHNNY S: hero",
          "THOR/DR. DONALD BLAK: hero",
          "A '00: comic",
          "IRON MAN/TONY STARK: hero",
          "THING/BENJAMIN J. GR: hero",
          "INVISIBLE WOMAN/SUE: hero",
          "SPIDER-MAN/PETER PARKER: hero",
          "MR. FANTASTIC/REED R: hero",
          "HULK/DR. ROBERT BRUC: hero",
          "A 11: comic",
          "WOLVERINE/LOGAN: hero",
          "CAPTAIN AMERICA: hero",
          "A3 10: comic"
         ],
         "type": "scatter",
         "x": [
          -0.051797110174388136,
          0.1858367162127391,
          0.1677727265773677,
          0.6537117039352045,
          0.24395615291881062,
          -0.4943895635917647,
          -0.5061664003873418,
          0.6383652513293601,
          -0.17723927658498503,
          -0.6633029660162334,
          0.7532420526832927,
          -1,
          0.4241565109901641,
          -0.17414579789222606
         ],
         "y": [
          0.1609355399978513,
          0.6272426144483421,
          -0.19620854285355635,
          -0.8944971540592538,
          -0.49928490295533784,
          -0.29941831010208714,
          0.5759476716753579,
          0.20532447609722226,
          0.7206494650010026,
          0.24194627269656635,
          -0.27916444046155064,
          -0.13800025174306044,
          -0.2955495884696175,
          0.07007715072812237
         ]
        }
       ],
       "layout": {
        "annotations": [
         {
          "showarrow": false,
          "text": "Sequence of heroes: SPIDER-MAN/PETER PARKER, CAPTAIN AMERICA, IRON MAN/TONY STARK, THING/BENJAMIN J. GR, THOR/DR. DONALD BLAK",
          "x": 0.005,
          "xref": "paper",
          "y": -0.002,
          "yref": "paper"
         }
        ],
        "hovermode": "closest",
        "margin": {
         "b": 20,
         "l": 5,
         "r": 5,
         "t": 40
        },
        "showlegend": false,
        "template": {
         "data": {
          "bar": [
           {
            "error_x": {
             "color": "#2a3f5f"
            },
            "error_y": {
             "color": "#2a3f5f"
            },
            "marker": {
             "line": {
              "color": "#E5ECF6",
              "width": 0.5
             },
             "pattern": {
              "fillmode": "overlay",
              "size": 10,
              "solidity": 0.2
             }
            },
            "type": "bar"
           }
          ],
          "barpolar": [
           {
            "marker": {
             "line": {
              "color": "#E5ECF6",
              "width": 0.5
             },
             "pattern": {
              "fillmode": "overlay",
              "size": 10,
              "solidity": 0.2
             }
            },
            "type": "barpolar"
           }
          ],
          "carpet": [
           {
            "aaxis": {
             "endlinecolor": "#2a3f5f",
             "gridcolor": "white",
             "linecolor": "white",
             "minorgridcolor": "white",
             "startlinecolor": "#2a3f5f"
            },
            "baxis": {
             "endlinecolor": "#2a3f5f",
             "gridcolor": "white",
             "linecolor": "white",
             "minorgridcolor": "white",
             "startlinecolor": "#2a3f5f"
            },
            "type": "carpet"
           }
          ],
          "choropleth": [
           {
            "colorbar": {
             "outlinewidth": 0,
             "ticks": ""
            },
            "type": "choropleth"
           }
          ],
          "contour": [
           {
            "colorbar": {
             "outlinewidth": 0,
             "ticks": ""
            },
            "colorscale": [
             [
              0,
              "#0d0887"
             ],
             [
              0.1111111111111111,
              "#46039f"
             ],
             [
              0.2222222222222222,
              "#7201a8"
             ],
             [
              0.3333333333333333,
              "#9c179e"
             ],
             [
              0.4444444444444444,
              "#bd3786"
             ],
             [
              0.5555555555555556,
              "#d8576b"
             ],
             [
              0.6666666666666666,
              "#ed7953"
             ],
             [
              0.7777777777777778,
              "#fb9f3a"
             ],
             [
              0.8888888888888888,
              "#fdca26"
             ],
             [
              1,
              "#f0f921"
             ]
            ],
            "type": "contour"
           }
          ],
          "contourcarpet": [
           {
            "colorbar": {
             "outlinewidth": 0,
             "ticks": ""
            },
            "type": "contourcarpet"
           }
          ],
          "heatmap": [
           {
            "colorbar": {
             "outlinewidth": 0,
             "ticks": ""
            },
            "colorscale": [
             [
              0,
              "#0d0887"
             ],
             [
              0.1111111111111111,
              "#46039f"
             ],
             [
              0.2222222222222222,
              "#7201a8"
             ],
             [
              0.3333333333333333,
              "#9c179e"
             ],
             [
              0.4444444444444444,
              "#bd3786"
             ],
             [
              0.5555555555555556,
              "#d8576b"
             ],
             [
              0.6666666666666666,
              "#ed7953"
             ],
             [
              0.7777777777777778,
              "#fb9f3a"
             ],
             [
              0.8888888888888888,
              "#fdca26"
             ],
             [
              1,
              "#f0f921"
             ]
            ],
            "type": "heatmap"
           }
          ],
          "heatmapgl": [
           {
            "colorbar": {
             "outlinewidth": 0,
             "ticks": ""
            },
            "colorscale": [
             [
              0,
              "#0d0887"
             ],
             [
              0.1111111111111111,
              "#46039f"
             ],
             [
              0.2222222222222222,
              "#7201a8"
             ],
             [
              0.3333333333333333,
              "#9c179e"
             ],
             [
              0.4444444444444444,
              "#bd3786"
             ],
             [
              0.5555555555555556,
              "#d8576b"
             ],
             [
              0.6666666666666666,
              "#ed7953"
             ],
             [
              0.7777777777777778,
              "#fb9f3a"
             ],
             [
              0.8888888888888888,
              "#fdca26"
             ],
             [
              1,
              "#f0f921"
             ]
            ],
            "type": "heatmapgl"
           }
          ],
          "histogram": [
           {
            "marker": {
             "pattern": {
              "fillmode": "overlay",
              "size": 10,
              "solidity": 0.2
             }
            },
            "type": "histogram"
           }
          ],
          "histogram2d": [
           {
            "colorbar": {
             "outlinewidth": 0,
             "ticks": ""
            },
            "colorscale": [
             [
              0,
              "#0d0887"
             ],
             [
              0.1111111111111111,
              "#46039f"
             ],
             [
              0.2222222222222222,
              "#7201a8"
             ],
             [
              0.3333333333333333,
              "#9c179e"
             ],
             [
              0.4444444444444444,
              "#bd3786"
             ],
             [
              0.5555555555555556,
              "#d8576b"
             ],
             [
              0.6666666666666666,
              "#ed7953"
             ],
             [
              0.7777777777777778,
              "#fb9f3a"
             ],
             [
              0.8888888888888888,
              "#fdca26"
             ],
             [
              1,
              "#f0f921"
             ]
            ],
            "type": "histogram2d"
           }
          ],
          "histogram2dcontour": [
           {
            "colorbar": {
             "outlinewidth": 0,
             "ticks": ""
            },
            "colorscale": [
             [
              0,
              "#0d0887"
             ],
             [
              0.1111111111111111,
              "#46039f"
             ],
             [
              0.2222222222222222,
              "#7201a8"
             ],
             [
              0.3333333333333333,
              "#9c179e"
             ],
             [
              0.4444444444444444,
              "#bd3786"
             ],
             [
              0.5555555555555556,
              "#d8576b"
             ],
             [
              0.6666666666666666,
              "#ed7953"
             ],
             [
              0.7777777777777778,
              "#fb9f3a"
             ],
             [
              0.8888888888888888,
              "#fdca26"
             ],
             [
              1,
              "#f0f921"
             ]
            ],
            "type": "histogram2dcontour"
           }
          ],
          "mesh3d": [
           {
            "colorbar": {
             "outlinewidth": 0,
             "ticks": ""
            },
            "type": "mesh3d"
           }
          ],
          "parcoords": [
           {
            "line": {
             "colorbar": {
              "outlinewidth": 0,
              "ticks": ""
             }
            },
            "type": "parcoords"
           }
          ],
          "pie": [
           {
            "automargin": true,
            "type": "pie"
           }
          ],
          "scatter": [
           {
            "marker": {
             "colorbar": {
              "outlinewidth": 0,
              "ticks": ""
             }
            },
            "type": "scatter"
           }
          ],
          "scatter3d": [
           {
            "line": {
             "colorbar": {
              "outlinewidth": 0,
              "ticks": ""
             }
            },
            "marker": {
             "colorbar": {
              "outlinewidth": 0,
              "ticks": ""
             }
            },
            "type": "scatter3d"
           }
          ],
          "scattercarpet": [
           {
            "marker": {
             "colorbar": {
              "outlinewidth": 0,
              "ticks": ""
             }
            },
            "type": "scattercarpet"
           }
          ],
          "scattergeo": [
           {
            "marker": {
             "colorbar": {
              "outlinewidth": 0,
              "ticks": ""
             }
            },
            "type": "scattergeo"
           }
          ],
          "scattergl": [
           {
            "marker": {
             "colorbar": {
              "outlinewidth": 0,
              "ticks": ""
             }
            },
            "type": "scattergl"
           }
          ],
          "scattermapbox": [
           {
            "marker": {
             "colorbar": {
              "outlinewidth": 0,
              "ticks": ""
             }
            },
            "type": "scattermapbox"
           }
          ],
          "scatterpolar": [
           {
            "marker": {
             "colorbar": {
              "outlinewidth": 0,
              "ticks": ""
             }
            },
            "type": "scatterpolar"
           }
          ],
          "scatterpolargl": [
           {
            "marker": {
             "colorbar": {
              "outlinewidth": 0,
              "ticks": ""
             }
            },
            "type": "scatterpolargl"
           }
          ],
          "scatterternary": [
           {
            "marker": {
             "colorbar": {
              "outlinewidth": 0,
              "ticks": ""
             }
            },
            "type": "scatterternary"
           }
          ],
          "surface": [
           {
            "colorbar": {
             "outlinewidth": 0,
             "ticks": ""
            },
            "colorscale": [
             [
              0,
              "#0d0887"
             ],
             [
              0.1111111111111111,
              "#46039f"
             ],
             [
              0.2222222222222222,
              "#7201a8"
             ],
             [
              0.3333333333333333,
              "#9c179e"
             ],
             [
              0.4444444444444444,
              "#bd3786"
             ],
             [
              0.5555555555555556,
              "#d8576b"
             ],
             [
              0.6666666666666666,
              "#ed7953"
             ],
             [
              0.7777777777777778,
              "#fb9f3a"
             ],
             [
              0.8888888888888888,
              "#fdca26"
             ],
             [
              1,
              "#f0f921"
             ]
            ],
            "type": "surface"
           }
          ],
          "table": [
           {
            "cells": {
             "fill": {
              "color": "#EBF0F8"
             },
             "line": {
              "color": "white"
             }
            },
            "header": {
             "fill": {
              "color": "#C8D4E3"
             },
             "line": {
              "color": "white"
             }
            },
            "type": "table"
           }
          ]
         },
         "layout": {
          "annotationdefaults": {
           "arrowcolor": "#2a3f5f",
           "arrowhead": 0,
           "arrowwidth": 1
          },
          "autotypenumbers": "strict",
          "coloraxis": {
           "colorbar": {
            "outlinewidth": 0,
            "ticks": ""
           }
          },
          "colorscale": {
           "diverging": [
            [
             0,
             "#8e0152"
            ],
            [
             0.1,
             "#c51b7d"
            ],
            [
             0.2,
             "#de77ae"
            ],
            [
             0.3,
             "#f1b6da"
            ],
            [
             0.4,
             "#fde0ef"
            ],
            [
             0.5,
             "#f7f7f7"
            ],
            [
             0.6,
             "#e6f5d0"
            ],
            [
             0.7,
             "#b8e186"
            ],
            [
             0.8,
             "#7fbc41"
            ],
            [
             0.9,
             "#4d9221"
            ],
            [
             1,
             "#276419"
            ]
           ],
           "sequential": [
            [
             0,
             "#0d0887"
            ],
            [
             0.1111111111111111,
             "#46039f"
            ],
            [
             0.2222222222222222,
             "#7201a8"
            ],
            [
             0.3333333333333333,
             "#9c179e"
            ],
            [
             0.4444444444444444,
             "#bd3786"
            ],
            [
             0.5555555555555556,
             "#d8576b"
            ],
            [
             0.6666666666666666,
             "#ed7953"
            ],
            [
             0.7777777777777778,
             "#fb9f3a"
            ],
            [
             0.8888888888888888,
             "#fdca26"
            ],
            [
             1,
             "#f0f921"
            ]
           ],
           "sequentialminus": [
            [
             0,
             "#0d0887"
            ],
            [
             0.1111111111111111,
             "#46039f"
            ],
            [
             0.2222222222222222,
             "#7201a8"
            ],
            [
             0.3333333333333333,
             "#9c179e"
            ],
            [
             0.4444444444444444,
             "#bd3786"
            ],
            [
             0.5555555555555556,
             "#d8576b"
            ],
            [
             0.6666666666666666,
             "#ed7953"
            ],
            [
             0.7777777777777778,
             "#fb9f3a"
            ],
            [
             0.8888888888888888,
             "#fdca26"
            ],
            [
             1,
             "#f0f921"
            ]
           ]
          },
          "colorway": [
           "#636efa",
           "#EF553B",
           "#00cc96",
           "#ab63fa",
           "#FFA15A",
           "#19d3f3",
           "#FF6692",
           "#B6E880",
           "#FF97FF",
           "#FECB52"
          ],
          "font": {
           "color": "#2a3f5f"
          },
          "geo": {
           "bgcolor": "white",
           "lakecolor": "white",
           "landcolor": "#E5ECF6",
           "showlakes": true,
           "showland": true,
           "subunitcolor": "white"
          },
          "hoverlabel": {
           "align": "left"
          },
          "hovermode": "closest",
          "mapbox": {
           "style": "light"
          },
          "paper_bgcolor": "white",
          "plot_bgcolor": "#E5ECF6",
          "polar": {
           "angularaxis": {
            "gridcolor": "white",
            "linecolor": "white",
            "ticks": ""
           },
           "bgcolor": "#E5ECF6",
           "radialaxis": {
            "gridcolor": "white",
            "linecolor": "white",
            "ticks": ""
           }
          },
          "scene": {
           "xaxis": {
            "backgroundcolor": "#E5ECF6",
            "gridcolor": "white",
            "gridwidth": 2,
            "linecolor": "white",
            "showbackground": true,
            "ticks": "",
            "zerolinecolor": "white"
           },
           "yaxis": {
            "backgroundcolor": "#E5ECF6",
            "gridcolor": "white",
            "gridwidth": 2,
            "linecolor": "white",
            "showbackground": true,
            "ticks": "",
            "zerolinecolor": "white"
           },
           "zaxis": {
            "backgroundcolor": "#E5ECF6",
            "gridcolor": "white",
            "gridwidth": 2,
            "linecolor": "white",
            "showbackground": true,
            "ticks": "",
            "zerolinecolor": "white"
           }
          },
          "shapedefaults": {
           "line": {
            "color": "#2a3f5f"
           }
          },
          "ternary": {
           "aaxis": {
            "gridcolor": "white",
            "linecolor": "white",
            "ticks": ""
           },
           "baxis": {
            "gridcolor": "white",
            "linecolor": "white",
            "ticks": ""
           },
           "bgcolor": "#E5ECF6",
           "caxis": {
            "gridcolor": "white",
            "linecolor": "white",
            "ticks": ""
           }
          },
          "title": {
           "x": 0.05
          },
          "xaxis": {
           "automargin": true,
           "gridcolor": "white",
           "linecolor": "white",
           "ticks": "",
           "title": {
            "standoff": 15
           },
           "zerolinecolor": "white",
           "zerolinewidth": 2
          },
          "yaxis": {
           "automargin": true,
           "gridcolor": "white",
           "linecolor": "white",
           "ticks": "",
           "title": {
            "standoff": 15
           },
           "zerolinecolor": "white",
           "zerolinewidth": 2
          }
         }
        },
        "title": {
         "font": {
          "size": 16
         },
         "text": "Shortest Route"
        },
        "xaxis": {
         "showgrid": false,
         "showticklabels": false,
         "zeroline": false
        },
        "yaxis": {
         "showgrid": false,
         "showticklabels": false,
         "zeroline": false
        }
       }
      }
     },
     "metadata": {},
     "output_type": "display_data"
    }
   ],
   "source": [
    "info = shortest_route(G2, heroes[:5].index, 10, verbose=False)\n",
    "\n",
    "comics = [t[1] for t in info['Shortest route']]\n",
    "route_df = pd.DataFrame(comics, columns=['Comic Name'], index=[f'Comic {i+1}' for i in range(len(comics))]).T\n",
    "print(tabulate(route_df, headers='keys', tablefmt='psql'))\n",
    "\n",
    "nodes_in_sr = list(np.unique([node for path in info['Shortest route'] for node in path]))\n",
    "edges_in_sr = [[(x[0], x[1]), (x[1], x[2]), (x[1], x[0]), (x[2], x[1])] for x in info['Shortest route']]\n",
    "# sort each tuple in the list\n",
    "edges_in_sr = [item for sublist in edges_in_sr for item in sublist]\n",
    "\n",
    "subg = info['Subgraph']\n",
    "subg = subg.subgraph(nodes_in_sr)\n",
    "\n",
    "# for edges in edges_in_sr make path = True, otherwise make path = False\n",
    "for edge in subg.edges():\n",
    "    if edge in edges_in_sr:\n",
    "        subg.edges[edge]['path'] = True\n",
    "    else:\n",
    "        subg.edges[edge]['path'] = False\n",
    "\n",
    "for hero in info['Hero sequence']:\n",
    "    subg.nodes[hero]['seq'] = 'seq'\n",
    "\n",
    "# Now we implement the example for our graph subg\n",
    "pos = nx.spring_layout(subg)\n",
    "\n",
    "edges = {'edge_x': [],'edge_y': []}\n",
    "colored_edges = {'edge_x': [],'edge_y': []}\n",
    "\n",
    "for edge in subg.edges():\n",
    "    x0, y0 = pos[edge[0]]\n",
    "    x1, y1 = pos[edge[1]]\n",
    "    if subg.edges[edge]['path'] == True:\n",
    "        colored_edges['edge_x'].append(x0)\n",
    "        colored_edges['edge_x'].append(x1)\n",
    "        colored_edges['edge_x'].append(None)\n",
    "        colored_edges['edge_y'].append(y0)\n",
    "        colored_edges['edge_y'].append(y1)\n",
    "        colored_edges['edge_y'].append(None)\n",
    "    else:\n",
    "        edges['edge_x'].append(x0)\n",
    "        edges['edge_x'].append(x1)\n",
    "        edges['edge_x'].append(None)\n",
    "        edges['edge_y'].append(y0)\n",
    "        edges['edge_y'].append(y1)\n",
    "        edges['edge_y'].append(None)\n",
    "\n",
    "\n",
    "edge_trace = go.Scatter(\n",
    "    x=edges['edge_x'], y=edges['edge_y'],\n",
    "    line=dict(width=0.5, color='#888'),\n",
    "    hoverinfo='none',\n",
    "    mode='lines')\n",
    "\n",
    "colored_edge_trace = go.Scatter(\n",
    "    x=colored_edges['edge_x'], y=colored_edges['edge_y'],\n",
    "    line=dict(width=2, color='red'),\n",
    "    hoverinfo='none',\n",
    "    mode='lines')\n",
    "\n",
    "nodes = {'node_x': [],'node_y': []}\n",
    "for node in subg.nodes():\n",
    "    x, y = pos[node]\n",
    "    nodes['node_x'].append(x)\n",
    "    nodes['node_y'].append(y)\n",
    "\n",
    "\n",
    "print('Im done with the node positions')\n",
    "\n",
    "node_trace = go.Scatter(\n",
    "    x=nodes['node_x'], y=nodes['node_y'],\n",
    "    mode='markers',\n",
    "    hoverinfo='text',\n",
    "    marker=dict(\n",
    "        size=10,\n",
    "        line_width=2))\n",
    "\n",
    "colors = {'hero': '#F3A5AA', 'comic': '#447BBE', 'seq': '#DF1F2D'}\n",
    "\n",
    "node_trace.marker.color = [colors[subg.nodes[node]['seq'] if 'seq' in subg.nodes[node] else subg.nodes[node]['type']] for node in subg.nodes()]\n",
    "node_trace.text = [f'{node}: {subg.nodes[node][\"type\"]}' for node in subg.nodes()]\n",
    "\n",
    "print('Im done with node adjacencies and node text')\n",
    "\n",
    "fig = go.Figure(data=[edge_trace, colored_edge_trace, node_trace],\n",
    "             layout=go.Layout(\n",
    "                title='Shortest Route',\n",
    "                titlefont_size=16,\n",
    "                showlegend=False,\n",
    "                hovermode='closest',\n",
    "                margin=dict(b=20,l=5,r=5,t=40),\n",
    "                annotations=[ dict(\n",
    "                    text=f\"Sequence of heroes: {', '.join(info['Hero sequence'])}\",\n",
    "                    showarrow=False,\n",
    "                    xref=\"paper\", yref=\"paper\",\n",
    "                    x=0.005, y=-0.002 ) ],\n",
    "                xaxis=dict(showgrid=False, zeroline=False, showticklabels=False),\n",
    "                yaxis=dict(showgrid=False, zeroline=False, showticklabels=False))\n",
    "                )\n",
    "fig.show()"
   ]
  },
  {
   "attachments": {},
   "cell_type": "markdown",
   "metadata": {},
   "source": [
    "### Visualization 4 - Visualize the disconnected graph"
   ]
  },
  {
   "cell_type": "code",
   "execution_count": null,
   "metadata": {},
   "outputs": [],
   "source": [
    "# Retrieve info\n",
    "info = disconnecting_graphs(G1, heroes.index[20], heroes.index[21], 30, verbose=False)\n",
    "\n",
    "print(f'Number of links to cut to disconnect {heroes.index[100]} and {heroes.index[200]}: {info[\"Number of links to cut\"]}')\n",
    "\n",
    "original_graph = info['Subgraph']\n",
    "cutset = info['Cutset']\n",
    "\n",
    "# We remove the cutset from the original graph\n",
    "altered_graph = original_graph.copy()\n",
    "altered_graph.remove_edges_from(cutset)\n",
    "\n",
    "# We plot the original graph\n",
    "pos = nx.spring_layout(original_graph)\n",
    "\n",
    "edges = {'edge_x': [],'edge_y': []}\n",
    "for edge in original_graph.edges():\n",
    "    x0, y0 = pos[edge[0]]\n",
    "    x1, y1 = pos[edge[1]]\n",
    "    edges['edge_x'].append(x0)\n",
    "    edges['edge_x'].append(x1)\n",
    "    edges['edge_x'].append(None)\n",
    "    edges['edge_y'].append(y0)\n",
    "    edges['edge_y'].append(y1)\n",
    "    edges['edge_y'].append(None)\n",
    "\n",
    "edge_trace = go.Scatter(\n",
    "    x=edges['edge_x'], y=edges['edge_y'],\n",
    "    line=dict(width=0.5, color='#888'),\n",
    "    hoverinfo='none',\n",
    "    mode='lines')\n",
    "\n",
    "nodes = {'node_x': [],'node_y': []}\n",
    "for node in original_graph.nodes():\n",
    "    x, y = pos[node]\n",
    "    nodes['node_x'].append(x)\n",
    "    nodes['node_y'].append(y)\n",
    "\n",
    "node_trace = go.Scatter(\n",
    "    x=nodes['node_x'], y=nodes['node_y'],\n",
    "    mode='markers',\n",
    "    hoverinfo='text',\n",
    "    marker=dict(\n",
    "        size=10,\n",
    "        line_width=2))\n",
    "        \n",
    "# Red if heroa or herob, else blue\n",
    "node_trace.marker.color = ['red' if node in [info['HeroA'], info['HeroB']] else 'blue' for node in original_graph.nodes()]\n",
    "# camelcase for heroname\n",
    "node_trace.text = [node.split('/')[0].title() for node in original_graph.nodes()]\n",
    "\n",
    "fig = go.Figure(data=[edge_trace, node_trace],\n",
    "                layout=go.Layout(\n",
    "                    title='Original Graph',\n",
    "                    titlefont_size=16,\n",
    "                    showlegend=False,\n",
    "                    hovermode='closest',\n",
    "                    margin=dict(b=20,l=5,r=5,t=40))\n",
    "                    )\n",
    "fig.show()\n",
    "\n",
    "pos = nx.spring_layout(altered_graph)\n",
    "\n",
    "# Remove edges from the original graph\n",
    "edges = {'edge_x': [],'edge_y': []}\n",
    "for edge in altered_graph.edges():\n",
    "    x0, y0 = pos[edge[0]]\n",
    "    x1, y1 = pos[edge[1]]\n",
    "    edges['edge_x'].append(x0)\n",
    "    edges['edge_x'].append(x1)\n",
    "    edges['edge_x'].append(None)\n",
    "    edges['edge_y'].append(y0)\n",
    "    edges['edge_y'].append(y1)\n",
    "    edges['edge_y'].append(None)\n",
    "\n",
    "edge_trace = go.Scatter(\n",
    "    x=edges['edge_x'], y=edges['edge_y'],\n",
    "    line=dict(width=0.5, color='#888'),\n",
    "    hoverinfo='none',\n",
    "    mode='lines')\n",
    "\n",
    "max_weight = max([edge[2]['weight'] for edge in original_graph.edges(data=True)]) + 0.1\n",
    "colorpalette = px.colors.sequential.BuPu\n",
    "m = len(colorpalette)\n",
    "# edge_trace.line.color = [colorpalette[int(edge[2]['weight']/max_weight*m)] for edge in altered_graph.edges(data=True)]\n",
    "\n",
    "nodes = {'node_x': [],'node_y': []}\n",
    "for node in altered_graph.nodes():\n",
    "    x, y = pos[node]\n",
    "    nodes['node_x'].append(x)\n",
    "    nodes['node_y'].append(y)\n",
    "\n",
    "node_trace = go.Scatter(\n",
    "    x=nodes['node_x'], y=nodes['node_y'],\n",
    "    mode='markers',\n",
    "    hoverinfo='text',\n",
    "    marker=dict(\n",
    "        size=10,\n",
    "        line_width=2))\n",
    "\n",
    "# Red if heroa or herob, else blue\n",
    "node_trace.marker.color = ['red' if node in [info['HeroA'], info['HeroB']] else 'blue' for node in altered_graph.nodes()]\n",
    "# camelcase for heroname\n",
    "node_trace.text = [node.split('/')[0].title() for node in altered_graph.nodes()]\n",
    "\n",
    "fig = go.Figure(data=[edge_trace, node_trace],\n",
    "                layout=go.Layout(\n",
    "                    title='Altered Graph',\n",
    "                    titlefont_size=16,\n",
    "                    showlegend=False,\n",
    "                    hovermode='closest',\n",
    "                    margin=dict(b=20,l=5,r=5,t=40))\n",
    "                    )\n",
    "fig.show()\n",
    "    "
   ]
  },
  {
   "attachments": {},
   "cell_type": "markdown",
   "metadata": {},
   "source": [
    "### Visualization 5 - Visualize the communities"
   ]
  },
  {
   "cell_type": "code",
   "execution_count": 398,
   "metadata": {},
   "outputs": [
    {
     "name": "stdout",
     "output_type": "stream",
     "text": [
      "<generator object girvan_newman at 0x7fa2ff2ce0b0>\n",
      "The number of edges to cut is: 29\n",
      "Captain America and Ironman belong to the same community: True\n",
      "Community 1:\n",
      "╒══════════════════════╕\n",
      "│ THOR/DR. DONALD BLAK │\n",
      "╘══════════════════════╛\n",
      "Community 2:\n",
      "╒══════╤═════════════════════╤═════════════════════╤══════════════════════╤═════════════════════╤═══════════════════╤═════════════════════╤═════════════════════╤══════════════════════╤═════════════════════╤══════════════════════╤═════════════════╤═════════════════════╤══════════════════════╤══════════════════════╤══════════════════════╤══════════════════════╤═════════════════════╤═════════════════════════╤════════╤═════════════════════╤══════════════════════╤══════════════════════╤══════════════════════╤══════════════════════╤══════════════════════╤══════════════════════╤══════════════════════╤═════════════════╕\n",
      "│ HAWK │ DR. STRANGE/STEPHEN │ PROFESSOR X/CHARLES │ BEAST/HENRY &HANK& P │ SCARLET WITCH/WANDA │ JAMESON, J. JONAH │ WASP/JANET VAN DYNE │ WATSON-PARKER, MARY │ MR. FANTASTIC/REED R │ ICEMAN/ROBERT BOBBY │ NIGHTCRAWLER/KURT WA │ CAPTAIN AMERICA │ FURY, COL. NICHOLAS │ DAREDEVIL/MATT MURDO │ ANT-MAN/DR. HENRY J. │ THING/BENJAMIN J. GR │ ANGEL/WARREN KENNETH │ INVISIBLE WOMAN/SUE │ SPIDER-MAN/PETER PARKER │ VISION │ IRON MAN/TONY STARK │ STORM/ORORO MUNROE S │ MARVEL GIRL/JEAN GRE │ HUMAN TORCH/JOHNNY S │ SUB-MARINER/NAMOR MA │ COLOSSUS II/PETER RA │ CYCLOPS/SCOTT SUMMER │ HULK/DR. ROBERT BRUC │ WOLVERINE/LOGAN │\n",
      "╘══════╧═════════════════════╧═════════════════════╧══════════════════════╧═════════════════════╧═══════════════════╧═════════════════════╧═════════════════════╧══════════════════════╧═════════════════════╧══════════════════════╧═════════════════╧═════════════════════╧══════════════════════╧══════════════════════╧══════════════════════╧══════════════════════╧═════════════════════╧═════════════════════════╧════════╧═════════════════════╧══════════════════════╧══════════════════════╧══════════════════════╧══════════════════════╧══════════════════════╧══════════════════════╧══════════════════════╧═════════════════╛\n"
     ]
    },
    {
     "data": {
      "application/vnd.plotly.v1+json": {
       "config": {
        "plotlyServerURL": "https://plot.ly"
       },
       "data": [
        {
         "hoverinfo": "none",
         "line": {
          "color": "#888",
          "width": 0.5
         },
         "mode": "lines",
         "type": "scatter",
         "x": [
          -0.3766160447302999,
          0.6144611476896625,
          null,
          -0.3766160447302999,
          0.5558613030575593,
          null,
          -0.3766160447302999,
          -0.11026629783069604,
          null,
          -0.3766160447302999,
          -0.45629617983079807,
          null,
          -0.3766160447302999,
          0.6439220615088818,
          null,
          -0.3766160447302999,
          -0.7155532019890748,
          null,
          -0.3766160447302999,
          -0.9728053708750592,
          null,
          -0.3766160447302999,
          0.09552698478160877,
          null,
          -0.3766160447302999,
          1,
          null,
          -0.3766160447302999,
          -0.9850319421148813,
          null,
          -0.3766160447302999,
          -0.6022555688644293,
          null,
          -0.3766160447302999,
          0.9030358568675082,
          null,
          -0.3766160447302999,
          0.11757827163164307,
          null,
          -0.3766160447302999,
          0.24401197697534693,
          null,
          -0.3766160447302999,
          0.3029075481450755,
          null,
          -0.3766160447302999,
          -0.5856624487005451,
          null,
          -0.3766160447302999,
          -0.15515556403879557,
          null,
          -0.3766160447302999,
          0.19460304598837272,
          null,
          -0.3766160447302999,
          -0.0400189887955811,
          null,
          -0.3766160447302999,
          -0.3052298532103115,
          null,
          -0.3766160447302999,
          -0.08262325561506051,
          null,
          -0.3766160447302999,
          -0.508936670028045,
          null,
          -0.3766160447302999,
          0.2864404206525119,
          null,
          -0.3766160447302999,
          0.44547136123646525,
          null,
          -0.3766160447302999,
          0.3169469081832996,
          null,
          -0.3766160447302999,
          -0.4433937674744175,
          null,
          -0.3766160447302999,
          -0.10540353830155513,
          null,
          -0.3766160447302999,
          -0.008658332780676936,
          null,
          -0.5856624487005451,
          -0.6022555688644293,
          null,
          -0.5856624487005451,
          0.24401197697534693,
          null,
          -0.5856624487005451,
          0.11757827163164307,
          null,
          -0.5856624487005451,
          0.6144611476896625,
          null,
          -0.5856624487005451,
          0.5558613030575593,
          null,
          -0.5856624487005451,
          -0.7155532019890748,
          null,
          -0.5856624487005451,
          -0.9728053708750592,
          null,
          -0.5856624487005451,
          -0.11026629783069604,
          null,
          -0.5856624487005451,
          -0.9850319421148813,
          null,
          -0.5856624487005451,
          1,
          null,
          -0.5856624487005451,
          0.09552698478160877,
          null,
          -0.5856624487005451,
          0.9030358568675082,
          null,
          -0.5856624487005451,
          -0.45629617983079807,
          null,
          -0.5856624487005451,
          -0.508936670028045,
          null,
          -0.5856624487005451,
          0.6439220615088818,
          null,
          -0.5856624487005451,
          -0.15515556403879557,
          null,
          -0.5856624487005451,
          -0.0400189887955811,
          null,
          -0.5856624487005451,
          0.2864404206525119,
          null,
          -0.5856624487005451,
          0.19460304598837272,
          null,
          -0.5856624487005451,
          -0.3052298532103115,
          null,
          -0.5856624487005451,
          0.44547136123646525,
          null,
          -0.5856624487005451,
          -0.4433937674744175,
          null,
          -0.5856624487005451,
          -0.08262325561506051,
          null,
          -0.5856624487005451,
          0.3029075481450755,
          null,
          -0.5856624487005451,
          -0.10540353830155513,
          null,
          -0.5856624487005451,
          0.3169469081832996,
          null,
          -0.5856624487005451,
          -0.008658332780676936,
          null,
          -0.0400189887955811,
          0.19460304598837272,
          null,
          -0.0400189887955811,
          -0.3052298532103115,
          null,
          -0.0400189887955811,
          -0.15515556403879557,
          null,
          -0.0400189887955811,
          -0.08262325561506051,
          null,
          -0.0400189887955811,
          -0.4433937674744175,
          null,
          -0.0400189887955811,
          0.3169469081832996,
          null,
          -0.0400189887955811,
          -0.9850319421148813,
          null,
          -0.0400189887955811,
          0.2864404206525119,
          null,
          -0.0400189887955811,
          0.44547136123646525,
          null,
          -0.0400189887955811,
          -0.9728053708750592,
          null,
          -0.0400189887955811,
          1,
          null,
          -0.0400189887955811,
          0.6144611476896625,
          null,
          -0.0400189887955811,
          0.09552698478160877,
          null,
          -0.0400189887955811,
          0.9030358568675082,
          null,
          -0.0400189887955811,
          -0.6022555688644293,
          null,
          -0.0400189887955811,
          0.11757827163164307,
          null,
          -0.0400189887955811,
          0.5558613030575593,
          null,
          -0.0400189887955811,
          -0.45629617983079807,
          null,
          -0.0400189887955811,
          -0.7155532019890748,
          null,
          -0.0400189887955811,
          -0.11026629783069604,
          null,
          -0.0400189887955811,
          0.6439220615088818,
          null,
          -0.0400189887955811,
          -0.508936670028045,
          null,
          -0.0400189887955811,
          0.3029075481450755,
          null,
          -0.0400189887955811,
          0.24401197697534693,
          null,
          -0.0400189887955811,
          -0.10540353830155513,
          null,
          -0.0400189887955811,
          -0.008658332780676936,
          null,
          -0.9850319421148813,
          0.44547136123646525,
          null,
          -0.9850319421148813,
          0.19460304598837272,
          null,
          -0.9850319421148813,
          0.2864404206525119,
          null,
          -0.9850319421148813,
          -0.4433937674744175,
          null,
          -0.9850319421148813,
          0.6144611476896625,
          null,
          -0.9850319421148813,
          -0.15515556403879557,
          null,
          -0.9850319421148813,
          -0.3052298532103115,
          null,
          -0.9850319421148813,
          0.5558613030575593,
          null,
          -0.9850319421148813,
          -0.7155532019890748,
          null,
          -0.9850319421148813,
          -0.11026629783069604,
          null,
          -0.9850319421148813,
          -0.45629617983079807,
          null,
          -0.9850319421148813,
          0.6439220615088818,
          null,
          -0.9850319421148813,
          -0.08262325561506051,
          null,
          -0.9850319421148813,
          -0.9728053708750592,
          null,
          -0.9850319421148813,
          0.09552698478160877,
          null,
          -0.9850319421148813,
          1,
          null,
          -0.9850319421148813,
          0.3169469081832996,
          null,
          -0.9850319421148813,
          0.9030358568675082,
          null,
          -0.9850319421148813,
          0.11757827163164307,
          null,
          -0.9850319421148813,
          -0.6022555688644293,
          null,
          -0.9850319421148813,
          0.24401197697534693,
          null,
          -0.9850319421148813,
          -0.508936670028045,
          null,
          -0.9850319421148813,
          0.3029075481450755,
          null,
          -0.9850319421148813,
          -0.10540353830155513,
          null,
          -0.9850319421148813,
          -0.008658332780676936,
          null,
          0.5558613030575593,
          -0.7155532019890748,
          null,
          0.5558613030575593,
          -0.11026629783069604,
          null,
          0.5558613030575593,
          0.6144611476896625,
          null,
          0.5558613030575593,
          -0.45629617983079807,
          null,
          0.5558613030575593,
          0.6439220615088818,
          null,
          0.5558613030575593,
          -0.9728053708750592,
          null,
          0.5558613030575593,
          1,
          null,
          0.5558613030575593,
          0.09552698478160877,
          null,
          0.5558613030575593,
          0.9030358568675082,
          null,
          0.5558613030575593,
          0.11757827163164307,
          null,
          0.5558613030575593,
          -0.6022555688644293,
          null,
          0.5558613030575593,
          0.24401197697534693,
          null,
          0.5558613030575593,
          0.44547136123646525,
          null,
          0.5558613030575593,
          0.19460304598837272,
          null,
          0.5558613030575593,
          -0.15515556403879557,
          null,
          0.5558613030575593,
          0.2864404206525119,
          null,
          0.5558613030575593,
          -0.3052298532103115,
          null,
          0.5558613030575593,
          -0.4433937674744175,
          null,
          0.5558613030575593,
          0.3029075481450755,
          null,
          0.5558613030575593,
          -0.508936670028045,
          null,
          0.5558613030575593,
          -0.08262325561506051,
          null,
          0.5558613030575593,
          0.3169469081832996,
          null,
          0.5558613030575593,
          -0.10540353830155513,
          null,
          0.5558613030575593,
          -0.008658332780676936,
          null,
          -0.45629617983079807,
          0.6439220615088818,
          null,
          -0.45629617983079807,
          0.6144611476896625,
          null,
          -0.45629617983079807,
          -0.11026629783069604,
          null,
          -0.45629617983079807,
          -0.7155532019890748,
          null,
          -0.45629617983079807,
          0.09552698478160877,
          null,
          -0.45629617983079807,
          1,
          null,
          -0.45629617983079807,
          -0.9728053708750592,
          null,
          -0.45629617983079807,
          0.9030358568675082,
          null,
          -0.45629617983079807,
          0.11757827163164307,
          null,
          -0.45629617983079807,
          -0.6022555688644293,
          null,
          -0.45629617983079807,
          0.24401197697534693,
          null,
          -0.45629617983079807,
          -0.3052298532103115,
          null,
          -0.45629617983079807,
          0.19460304598837272,
          null,
          -0.45629617983079807,
          -0.508936670028045,
          null,
          -0.45629617983079807,
          -0.15515556403879557,
          null,
          -0.45629617983079807,
          -0.08262325561506051,
          null,
          -0.45629617983079807,
          0.2864404206525119,
          null,
          -0.45629617983079807,
          0.44547136123646525,
          null,
          -0.45629617983079807,
          0.3029075481450755,
          null,
          -0.45629617983079807,
          0.3169469081832996,
          null,
          -0.45629617983079807,
          -0.4433937674744175,
          null,
          -0.45629617983079807,
          -0.10540353830155513,
          null,
          -0.45629617983079807,
          -0.008658332780676936,
          null,
          -0.10540353830155513,
          0.11757827163164307,
          null,
          -0.10540353830155513,
          -0.008658332780676936,
          null,
          -0.10540353830155513,
          -0.508936670028045,
          null,
          -0.10540353830155513,
          1,
          null,
          -0.10540353830155513,
          0.6144611476896625,
          null,
          -0.10540353830155513,
          -0.9728053708750592,
          null,
          -0.10540353830155513,
          0.09552698478160877,
          null,
          -0.10540353830155513,
          -0.11026629783069604,
          null,
          -0.10540353830155513,
          0.9030358568675082,
          null,
          -0.10540353830155513,
          -0.6022555688644293,
          null,
          -0.10540353830155513,
          -0.15515556403879557,
          null,
          -0.10540353830155513,
          0.6439220615088818,
          null,
          -0.10540353830155513,
          0.44547136123646525,
          null,
          -0.10540353830155513,
          0.3029075481450755,
          null,
          -0.10540353830155513,
          -0.7155532019890748,
          null,
          -0.10540353830155513,
          0.19460304598837272,
          null,
          -0.10540353830155513,
          0.24401197697534693,
          null,
          -0.10540353830155513,
          -0.4433937674744175,
          null,
          -0.10540353830155513,
          0.2864404206525119,
          null,
          -0.10540353830155513,
          -0.3052298532103115,
          null,
          -0.10540353830155513,
          -0.08262325561506051,
          null,
          -0.10540353830155513,
          0.3169469081832996,
          null,
          -0.008658332780676936,
          0.11757827163164307,
          null,
          -0.008658332780676936,
          -0.508936670028045,
          null,
          -0.008658332780676936,
          0.6144611476896625,
          null,
          -0.008658332780676936,
          0.09552698478160877,
          null,
          -0.008658332780676936,
          1,
          null,
          -0.008658332780676936,
          -0.9728053708750592,
          null,
          -0.008658332780676936,
          -0.11026629783069604,
          null,
          -0.008658332780676936,
          0.9030358568675082,
          null,
          -0.008658332780676936,
          -0.15515556403879557,
          null,
          -0.008658332780676936,
          -0.6022555688644293,
          null,
          -0.008658332780676936,
          0.24401197697534693,
          null,
          -0.008658332780676936,
          -0.7155532019890748,
          null,
          -0.008658332780676936,
          -0.4433937674744175,
          null,
          -0.008658332780676936,
          -0.08262325561506051,
          null,
          -0.008658332780676936,
          0.19460304598837272,
          null,
          -0.008658332780676936,
          0.3169469081832996,
          null,
          -0.008658332780676936,
          0.6439220615088818,
          null,
          -0.008658332780676936,
          0.44547136123646525,
          null,
          -0.008658332780676936,
          -0.3052298532103115,
          null,
          -0.008658332780676936,
          0.2864404206525119,
          null,
          -0.008658332780676936,
          0.3029075481450755,
          null,
          0.09552698478160877,
          1,
          null,
          0.09552698478160877,
          -0.9728053708750592,
          null,
          0.09552698478160877,
          0.9030358568675082,
          null,
          0.09552698478160877,
          0.6144611476896625,
          null,
          0.09552698478160877,
          -0.11026629783069604,
          null,
          0.09552698478160877,
          0.11757827163164307,
          null,
          0.09552698478160877,
          -0.6022555688644293,
          null,
          0.09552698478160877,
          -0.7155532019890748,
          null,
          0.09552698478160877,
          0.24401197697534693,
          null,
          0.09552698478160877,
          0.6439220615088818,
          null,
          0.09552698478160877,
          0.19460304598837272,
          null,
          0.09552698478160877,
          -0.15515556403879557,
          null,
          0.09552698478160877,
          -0.508936670028045,
          null,
          0.09552698478160877,
          -0.3052298532103115,
          null,
          0.09552698478160877,
          0.3029075481450755,
          null,
          0.09552698478160877,
          0.2864404206525119,
          null,
          0.09552698478160877,
          -0.4433937674744175,
          null,
          0.09552698478160877,
          0.44547136123646525,
          null,
          0.09552698478160877,
          -0.08262325561506051,
          null,
          0.09552698478160877,
          0.3169469081832996,
          null,
          0.3169469081832996,
          -0.08262325561506051,
          null,
          0.3169469081832996,
          -0.15515556403879557,
          null,
          0.3169469081832996,
          -0.3052298532103115,
          null,
          0.3169469081832996,
          0.19460304598837272,
          null,
          0.3169469081832996,
          0.2864404206525119,
          null,
          0.3169469081832996,
          -0.4433937674744175,
          null,
          0.3169469081832996,
          0.6144611476896625,
          null,
          0.3169469081832996,
          0.11757827163164307,
          null,
          0.3169469081832996,
          0.44547136123646525,
          null,
          0.3169469081832996,
          -0.9728053708750592,
          null,
          0.3169469081832996,
          1,
          null,
          0.3169469081832996,
          -0.6022555688644293,
          null,
          0.3169469081832996,
          0.9030358568675082,
          null,
          0.3169469081832996,
          -0.11026629783069604,
          null,
          0.3169469081832996,
          -0.7155532019890748,
          null,
          0.3169469081832996,
          0.3029075481450755,
          null,
          0.3169469081832996,
          0.24401197697534693,
          null,
          0.3169469081832996,
          -0.508936670028045,
          null,
          0.3169469081832996,
          0.6439220615088818,
          null,
          0.44547136123646525,
          0.2864404206525119,
          null,
          0.44547136123646525,
          -0.4433937674744175,
          null,
          0.44547136123646525,
          0.19460304598837272,
          null,
          0.44547136123646525,
          -0.3052298532103115,
          null,
          0.44547136123646525,
          -0.15515556403879557,
          null,
          0.44547136123646525,
          -0.08262325561506051,
          null,
          0.44547136123646525,
          1,
          null,
          0.44547136123646525,
          0.6144611476896625,
          null,
          0.44547136123646525,
          -0.9728053708750592,
          null,
          0.44547136123646525,
          0.9030358568675082,
          null,
          0.44547136123646525,
          -0.7155532019890748,
          null,
          0.44547136123646525,
          -0.6022555688644293,
          null,
          0.44547136123646525,
          0.11757827163164307,
          null,
          0.44547136123646525,
          0.6439220615088818,
          null,
          0.44547136123646525,
          -0.11026629783069604,
          null,
          0.44547136123646525,
          -0.508936670028045,
          null,
          0.44547136123646525,
          0.3029075481450755,
          null,
          0.44547136123646525,
          0.24401197697534693,
          null,
          0.6144611476896625,
          -0.11026629783069604,
          null,
          0.6144611476896625,
          -0.7155532019890748,
          null,
          0.6144611476896625,
          0.6439220615088818,
          null,
          0.6144611476896625,
          -0.9728053708750592,
          null,
          0.6144611476896625,
          1,
          null,
          0.6144611476896625,
          0.24401197697534693,
          null,
          0.6144611476896625,
          0.3029075481450755,
          null,
          0.6144611476896625,
          0.9030358568675082,
          null,
          0.6144611476896625,
          0.11757827163164307,
          null,
          0.6144611476896625,
          -0.6022555688644293,
          null,
          0.6144611476896625,
          -0.15515556403879557,
          null,
          0.6144611476896625,
          -0.508936670028045,
          null,
          0.6144611476896625,
          0.19460304598837272,
          null,
          0.6144611476896625,
          -0.3052298532103115,
          null,
          0.6144611476896625,
          -0.08262325561506051,
          null,
          0.6144611476896625,
          0.2864404206525119,
          null,
          0.6144611476896625,
          -0.4433937674744175,
          null,
          0.3029075481450755,
          -0.11026629783069604,
          null,
          0.3029075481450755,
          -0.9728053708750592,
          null,
          0.3029075481450755,
          -0.15515556403879557,
          null,
          0.3029075481450755,
          -0.6022555688644293,
          null,
          0.3029075481450755,
          0.11757827163164307,
          null,
          0.3029075481450755,
          -0.7155532019890748,
          null,
          0.3029075481450755,
          1,
          null,
          0.3029075481450755,
          -0.508936670028045,
          null,
          0.3029075481450755,
          0.9030358568675082,
          null,
          0.3029075481450755,
          0.6439220615088818,
          null,
          0.3029075481450755,
          -0.4433937674744175,
          null,
          0.3029075481450755,
          0.19460304598837272,
          null,
          0.3029075481450755,
          0.2864404206525119,
          null,
          0.3029075481450755,
          0.24401197697534693,
          null,
          0.3029075481450755,
          -0.3052298532103115,
          null,
          0.3029075481450755,
          -0.08262325561506051,
          null,
          -0.508936670028045,
          0.11757827163164307,
          null,
          -0.508936670028045,
          1,
          null,
          -0.508936670028045,
          -0.9728053708750592,
          null,
          -0.508936670028045,
          0.9030358568675082,
          null,
          -0.508936670028045,
          -0.11026629783069604,
          null,
          -0.508936670028045,
          -0.7155532019890748,
          null,
          -0.508936670028045,
          -0.6022555688644293,
          null,
          -0.508936670028045,
          0.6439220615088818,
          null,
          -0.508936670028045,
          -0.15515556403879557,
          null,
          -0.508936670028045,
          0.2864404206525119,
          null,
          -0.508936670028045,
          0.19460304598837272,
          null,
          -0.508936670028045,
          -0.3052298532103115,
          null,
          -0.508936670028045,
          -0.4433937674744175,
          null,
          -0.508936670028045,
          0.24401197697534693,
          null,
          -0.508936670028045,
          -0.08262325561506051,
          null,
          0.6439220615088818,
          -0.11026629783069604,
          null,
          0.6439220615088818,
          -0.7155532019890748,
          null,
          0.6439220615088818,
          -0.9728053708750592,
          null,
          0.6439220615088818,
          0.9030358568675082,
          null,
          0.6439220615088818,
          1,
          null,
          0.6439220615088818,
          0.24401197697534693,
          null,
          0.6439220615088818,
          -0.6022555688644293,
          null,
          0.6439220615088818,
          0.11757827163164307,
          null,
          0.6439220615088818,
          0.19460304598837272,
          null,
          0.6439220615088818,
          -0.4433937674744175,
          null,
          0.6439220615088818,
          0.2864404206525119,
          null,
          0.6439220615088818,
          -0.15515556403879557,
          null,
          0.6439220615088818,
          -0.3052298532103115,
          null,
          0.6439220615088818,
          -0.08262325561506051,
          null,
          -0.9728053708750592,
          1,
          null,
          -0.9728053708750592,
          0.9030358568675082,
          null,
          -0.9728053708750592,
          -0.11026629783069604,
          null,
          -0.9728053708750592,
          0.11757827163164307,
          null,
          -0.9728053708750592,
          0.24401197697534693,
          null,
          -0.9728053708750592,
          -0.6022555688644293,
          null,
          -0.9728053708750592,
          -0.7155532019890748,
          null,
          -0.9728053708750592,
          -0.15515556403879557,
          null,
          -0.9728053708750592,
          0.19460304598837272,
          null,
          -0.9728053708750592,
          -0.3052298532103115,
          null,
          -0.9728053708750592,
          -0.08262325561506051,
          null,
          -0.9728053708750592,
          -0.4433937674744175,
          null,
          -0.9728053708750592,
          0.2864404206525119,
          null,
          0.2864404206525119,
          0.19460304598837272,
          null,
          0.2864404206525119,
          -0.4433937674744175,
          null,
          0.2864404206525119,
          -0.3052298532103115,
          null,
          0.2864404206525119,
          -0.15515556403879557,
          null,
          0.2864404206525119,
          -0.08262325561506051,
          null,
          0.2864404206525119,
          1,
          null,
          0.2864404206525119,
          0.9030358568675082,
          null,
          0.2864404206525119,
          0.11757827163164307,
          null,
          0.2864404206525119,
          -0.7155532019890748,
          null,
          0.2864404206525119,
          -0.11026629783069604,
          null,
          0.2864404206525119,
          -0.6022555688644293,
          null,
          0.2864404206525119,
          0.24401197697534693,
          null,
          0.11757827163164307,
          1,
          null,
          0.11757827163164307,
          0.9030358568675082,
          null,
          0.11757827163164307,
          -0.11026629783069604,
          null,
          0.11757827163164307,
          -0.6022555688644293,
          null,
          0.11757827163164307,
          -0.7155532019890748,
          null,
          0.11757827163164307,
          -0.15515556403879557,
          null,
          0.11757827163164307,
          0.19460304598837272,
          null,
          0.11757827163164307,
          0.24401197697534693,
          null,
          0.11757827163164307,
          -0.08262325561506051,
          null,
          0.11757827163164307,
          -0.3052298532103115,
          null,
          0.11757827163164307,
          -0.4433937674744175,
          null,
          0.9030358568675082,
          1,
          null,
          0.9030358568675082,
          -0.11026629783069604,
          null,
          0.9030358568675082,
          0.24401197697534693,
          null,
          0.9030358568675082,
          -0.7155532019890748,
          null,
          0.9030358568675082,
          -0.6022555688644293,
          null,
          0.9030358568675082,
          -0.15515556403879557,
          null,
          0.9030358568675082,
          -0.3052298532103115,
          null,
          0.9030358568675082,
          0.19460304598837272,
          null,
          0.9030358568675082,
          -0.4433937674744175,
          null,
          0.9030358568675082,
          -0.08262325561506051,
          null,
          -0.7155532019890748,
          -0.11026629783069604,
          null,
          -0.7155532019890748,
          1,
          null,
          -0.7155532019890748,
          -0.6022555688644293,
          null,
          -0.7155532019890748,
          0.24401197697534693,
          null,
          -0.7155532019890748,
          -0.15515556403879557,
          null,
          -0.7155532019890748,
          -0.3052298532103115,
          null,
          -0.7155532019890748,
          0.19460304598837272,
          null,
          -0.7155532019890748,
          -0.08262325561506051,
          null,
          -0.7155532019890748,
          -0.4433937674744175,
          null,
          -0.11026629783069604,
          1,
          null,
          -0.11026629783069604,
          -0.6022555688644293,
          null,
          -0.11026629783069604,
          0.24401197697534693,
          null,
          -0.11026629783069604,
          -0.15515556403879557,
          null,
          -0.11026629783069604,
          0.19460304598837272,
          null,
          -0.11026629783069604,
          -0.4433937674744175,
          null,
          -0.11026629783069604,
          -0.3052298532103115,
          null,
          -0.11026629783069604,
          -0.08262325561506051,
          null,
          -0.3052298532103115,
          -0.15515556403879557,
          null,
          -0.3052298532103115,
          -0.08262325561506051,
          null,
          -0.3052298532103115,
          0.19460304598837272,
          null,
          -0.3052298532103115,
          -0.4433937674744175,
          null,
          -0.3052298532103115,
          1,
          null,
          -0.3052298532103115,
          -0.6022555688644293,
          null,
          -0.3052298532103115,
          0.24401197697534693,
          null,
          -0.4433937674744175,
          0.19460304598837272,
          null,
          -0.4433937674744175,
          -0.15515556403879557,
          null,
          -0.4433937674744175,
          -0.08262325561506051,
          null,
          -0.4433937674744175,
          1,
          null,
          -0.4433937674744175,
          -0.6022555688644293,
          null,
          -0.4433937674744175,
          0.24401197697534693,
          null,
          1,
          -0.6022555688644293,
          null,
          1,
          0.24401197697534693,
          null,
          1,
          -0.15515556403879557,
          null,
          1,
          0.19460304598837272,
          null,
          1,
          -0.08262325561506051,
          null,
          0.24401197697534693,
          -0.6022555688644293,
          null,
          0.24401197697534693,
          -0.15515556403879557,
          null,
          0.24401197697534693,
          0.19460304598837272,
          null,
          0.24401197697534693,
          -0.08262325561506051,
          null,
          -0.08262325561506051,
          -0.15515556403879557,
          null,
          -0.08262325561506051,
          0.19460304598837272,
          null,
          -0.08262325561506051,
          -0.6022555688644293,
          null,
          0.19460304598837272,
          -0.15515556403879557,
          null,
          0.19460304598837272,
          -0.6022555688644293,
          null,
          -0.6022555688644293,
          -0.15515556403879557,
          null
         ],
         "y": [
          0.7243269047667664,
          -0.8322474579360658,
          null,
          0.7243269047667664,
          0.7318313836327796,
          null,
          0.7243269047667664,
          0.8562768526551058,
          null,
          0.7243269047667664,
          -0.8150972764074151,
          null,
          0.7243269047667664,
          0.32102479893391117,
          null,
          0.7243269047667664,
          -0.618302363529858,
          null,
          0.7243269047667664,
          0.4326394807554932,
          null,
          0.7243269047667664,
          -0.9888989966046758,
          null,
          0.7243269047667664,
          0.34378352278069507,
          null,
          0.7243269047667664,
          0.016849326438169228,
          null,
          0.7243269047667664,
          0.5707963663180012,
          null,
          0.7243269047667664,
          -0.34810207833076584,
          null,
          0.7243269047667664,
          -0.6039810093153518,
          null,
          0.7243269047667664,
          -0.2189082684724568,
          null,
          0.7243269047667664,
          0.1955739807918065,
          null,
          0.7243269047667664,
          -0.034558610620562674,
          null,
          0.7243269047667664,
          -0.6164494117969774,
          null,
          0.7243269047667664,
          0.7703898692823918,
          null,
          0.7243269047667664,
          -0.23470019931283775,
          null,
          0.7243269047667664,
          -0.23193074308673942,
          null,
          0.7243269047667664,
          0.4687143817951966,
          null,
          0.7243269047667664,
          -0.2962047797016971,
          null,
          0.7243269047667664,
          0.48733754908469623,
          null,
          0.7243269047667664,
          -0.39573300235243314,
          null,
          0.7243269047667664,
          -0.10666960741080131,
          null,
          0.7243269047667664,
          0.23285860252995821,
          null,
          0.7243269047667664,
          0.12559298650389453,
          null,
          0.7243269047667664,
          0.11195086867266364,
          null,
          -0.034558610620562674,
          0.5707963663180012,
          null,
          -0.034558610620562674,
          -0.2189082684724568,
          null,
          -0.034558610620562674,
          -0.6039810093153518,
          null,
          -0.034558610620562674,
          -0.8322474579360658,
          null,
          -0.034558610620562674,
          0.7318313836327796,
          null,
          -0.034558610620562674,
          -0.618302363529858,
          null,
          -0.034558610620562674,
          0.4326394807554932,
          null,
          -0.034558610620562674,
          0.8562768526551058,
          null,
          -0.034558610620562674,
          0.016849326438169228,
          null,
          -0.034558610620562674,
          0.34378352278069507,
          null,
          -0.034558610620562674,
          -0.9888989966046758,
          null,
          -0.034558610620562674,
          -0.34810207833076584,
          null,
          -0.034558610620562674,
          -0.8150972764074151,
          null,
          -0.034558610620562674,
          -0.2962047797016971,
          null,
          -0.034558610620562674,
          0.32102479893391117,
          null,
          -0.034558610620562674,
          -0.6164494117969774,
          null,
          -0.034558610620562674,
          -0.23470019931283775,
          null,
          -0.034558610620562674,
          0.48733754908469623,
          null,
          -0.034558610620562674,
          0.7703898692823918,
          null,
          -0.034558610620562674,
          -0.23193074308673942,
          null,
          -0.034558610620562674,
          -0.39573300235243314,
          null,
          -0.034558610620562674,
          0.23285860252995821,
          null,
          -0.034558610620562674,
          0.4687143817951966,
          null,
          -0.034558610620562674,
          0.1955739807918065,
          null,
          -0.034558610620562674,
          0.12559298650389453,
          null,
          -0.034558610620562674,
          -0.10666960741080131,
          null,
          -0.034558610620562674,
          0.11195086867266364,
          null,
          -0.23470019931283775,
          0.7703898692823918,
          null,
          -0.23470019931283775,
          -0.23193074308673942,
          null,
          -0.23470019931283775,
          -0.6164494117969774,
          null,
          -0.23470019931283775,
          0.4687143817951966,
          null,
          -0.23470019931283775,
          0.23285860252995821,
          null,
          -0.23470019931283775,
          -0.10666960741080131,
          null,
          -0.23470019931283775,
          0.016849326438169228,
          null,
          -0.23470019931283775,
          0.48733754908469623,
          null,
          -0.23470019931283775,
          -0.39573300235243314,
          null,
          -0.23470019931283775,
          0.4326394807554932,
          null,
          -0.23470019931283775,
          0.34378352278069507,
          null,
          -0.23470019931283775,
          -0.8322474579360658,
          null,
          -0.23470019931283775,
          -0.9888989966046758,
          null,
          -0.23470019931283775,
          -0.34810207833076584,
          null,
          -0.23470019931283775,
          0.5707963663180012,
          null,
          -0.23470019931283775,
          -0.6039810093153518,
          null,
          -0.23470019931283775,
          0.7318313836327796,
          null,
          -0.23470019931283775,
          -0.8150972764074151,
          null,
          -0.23470019931283775,
          -0.618302363529858,
          null,
          -0.23470019931283775,
          0.8562768526551058,
          null,
          -0.23470019931283775,
          0.32102479893391117,
          null,
          -0.23470019931283775,
          -0.2962047797016971,
          null,
          -0.23470019931283775,
          0.1955739807918065,
          null,
          -0.23470019931283775,
          -0.2189082684724568,
          null,
          -0.23470019931283775,
          0.12559298650389453,
          null,
          -0.23470019931283775,
          0.11195086867266364,
          null,
          0.016849326438169228,
          -0.39573300235243314,
          null,
          0.016849326438169228,
          0.7703898692823918,
          null,
          0.016849326438169228,
          0.48733754908469623,
          null,
          0.016849326438169228,
          0.23285860252995821,
          null,
          0.016849326438169228,
          -0.8322474579360658,
          null,
          0.016849326438169228,
          -0.6164494117969774,
          null,
          0.016849326438169228,
          -0.23193074308673942,
          null,
          0.016849326438169228,
          0.7318313836327796,
          null,
          0.016849326438169228,
          -0.618302363529858,
          null,
          0.016849326438169228,
          0.8562768526551058,
          null,
          0.016849326438169228,
          -0.8150972764074151,
          null,
          0.016849326438169228,
          0.32102479893391117,
          null,
          0.016849326438169228,
          0.4687143817951966,
          null,
          0.016849326438169228,
          0.4326394807554932,
          null,
          0.016849326438169228,
          -0.9888989966046758,
          null,
          0.016849326438169228,
          0.34378352278069507,
          null,
          0.016849326438169228,
          -0.10666960741080131,
          null,
          0.016849326438169228,
          -0.34810207833076584,
          null,
          0.016849326438169228,
          -0.6039810093153518,
          null,
          0.016849326438169228,
          0.5707963663180012,
          null,
          0.016849326438169228,
          -0.2189082684724568,
          null,
          0.016849326438169228,
          -0.2962047797016971,
          null,
          0.016849326438169228,
          0.1955739807918065,
          null,
          0.016849326438169228,
          0.12559298650389453,
          null,
          0.016849326438169228,
          0.11195086867266364,
          null,
          0.7318313836327796,
          -0.618302363529858,
          null,
          0.7318313836327796,
          0.8562768526551058,
          null,
          0.7318313836327796,
          -0.8322474579360658,
          null,
          0.7318313836327796,
          -0.8150972764074151,
          null,
          0.7318313836327796,
          0.32102479893391117,
          null,
          0.7318313836327796,
          0.4326394807554932,
          null,
          0.7318313836327796,
          0.34378352278069507,
          null,
          0.7318313836327796,
          -0.9888989966046758,
          null,
          0.7318313836327796,
          -0.34810207833076584,
          null,
          0.7318313836327796,
          -0.6039810093153518,
          null,
          0.7318313836327796,
          0.5707963663180012,
          null,
          0.7318313836327796,
          -0.2189082684724568,
          null,
          0.7318313836327796,
          -0.39573300235243314,
          null,
          0.7318313836327796,
          0.7703898692823918,
          null,
          0.7318313836327796,
          -0.6164494117969774,
          null,
          0.7318313836327796,
          0.48733754908469623,
          null,
          0.7318313836327796,
          -0.23193074308673942,
          null,
          0.7318313836327796,
          0.23285860252995821,
          null,
          0.7318313836327796,
          0.1955739807918065,
          null,
          0.7318313836327796,
          -0.2962047797016971,
          null,
          0.7318313836327796,
          0.4687143817951966,
          null,
          0.7318313836327796,
          -0.10666960741080131,
          null,
          0.7318313836327796,
          0.12559298650389453,
          null,
          0.7318313836327796,
          0.11195086867266364,
          null,
          -0.8150972764074151,
          0.32102479893391117,
          null,
          -0.8150972764074151,
          -0.8322474579360658,
          null,
          -0.8150972764074151,
          0.8562768526551058,
          null,
          -0.8150972764074151,
          -0.618302363529858,
          null,
          -0.8150972764074151,
          -0.9888989966046758,
          null,
          -0.8150972764074151,
          0.34378352278069507,
          null,
          -0.8150972764074151,
          0.4326394807554932,
          null,
          -0.8150972764074151,
          -0.34810207833076584,
          null,
          -0.8150972764074151,
          -0.6039810093153518,
          null,
          -0.8150972764074151,
          0.5707963663180012,
          null,
          -0.8150972764074151,
          -0.2189082684724568,
          null,
          -0.8150972764074151,
          -0.23193074308673942,
          null,
          -0.8150972764074151,
          0.7703898692823918,
          null,
          -0.8150972764074151,
          -0.2962047797016971,
          null,
          -0.8150972764074151,
          -0.6164494117969774,
          null,
          -0.8150972764074151,
          0.4687143817951966,
          null,
          -0.8150972764074151,
          0.48733754908469623,
          null,
          -0.8150972764074151,
          -0.39573300235243314,
          null,
          -0.8150972764074151,
          0.1955739807918065,
          null,
          -0.8150972764074151,
          -0.10666960741080131,
          null,
          -0.8150972764074151,
          0.23285860252995821,
          null,
          -0.8150972764074151,
          0.12559298650389453,
          null,
          -0.8150972764074151,
          0.11195086867266364,
          null,
          0.12559298650389453,
          -0.6039810093153518,
          null,
          0.12559298650389453,
          0.11195086867266364,
          null,
          0.12559298650389453,
          -0.2962047797016971,
          null,
          0.12559298650389453,
          0.34378352278069507,
          null,
          0.12559298650389453,
          -0.8322474579360658,
          null,
          0.12559298650389453,
          0.4326394807554932,
          null,
          0.12559298650389453,
          -0.9888989966046758,
          null,
          0.12559298650389453,
          0.8562768526551058,
          null,
          0.12559298650389453,
          -0.34810207833076584,
          null,
          0.12559298650389453,
          0.5707963663180012,
          null,
          0.12559298650389453,
          -0.6164494117969774,
          null,
          0.12559298650389453,
          0.32102479893391117,
          null,
          0.12559298650389453,
          -0.39573300235243314,
          null,
          0.12559298650389453,
          0.1955739807918065,
          null,
          0.12559298650389453,
          -0.618302363529858,
          null,
          0.12559298650389453,
          0.7703898692823918,
          null,
          0.12559298650389453,
          -0.2189082684724568,
          null,
          0.12559298650389453,
          0.23285860252995821,
          null,
          0.12559298650389453,
          0.48733754908469623,
          null,
          0.12559298650389453,
          -0.23193074308673942,
          null,
          0.12559298650389453,
          0.4687143817951966,
          null,
          0.12559298650389453,
          -0.10666960741080131,
          null,
          0.11195086867266364,
          -0.6039810093153518,
          null,
          0.11195086867266364,
          -0.2962047797016971,
          null,
          0.11195086867266364,
          -0.8322474579360658,
          null,
          0.11195086867266364,
          -0.9888989966046758,
          null,
          0.11195086867266364,
          0.34378352278069507,
          null,
          0.11195086867266364,
          0.4326394807554932,
          null,
          0.11195086867266364,
          0.8562768526551058,
          null,
          0.11195086867266364,
          -0.34810207833076584,
          null,
          0.11195086867266364,
          -0.6164494117969774,
          null,
          0.11195086867266364,
          0.5707963663180012,
          null,
          0.11195086867266364,
          -0.2189082684724568,
          null,
          0.11195086867266364,
          -0.618302363529858,
          null,
          0.11195086867266364,
          0.23285860252995821,
          null,
          0.11195086867266364,
          0.4687143817951966,
          null,
          0.11195086867266364,
          0.7703898692823918,
          null,
          0.11195086867266364,
          -0.10666960741080131,
          null,
          0.11195086867266364,
          0.32102479893391117,
          null,
          0.11195086867266364,
          -0.39573300235243314,
          null,
          0.11195086867266364,
          -0.23193074308673942,
          null,
          0.11195086867266364,
          0.48733754908469623,
          null,
          0.11195086867266364,
          0.1955739807918065,
          null,
          -0.9888989966046758,
          0.34378352278069507,
          null,
          -0.9888989966046758,
          0.4326394807554932,
          null,
          -0.9888989966046758,
          -0.34810207833076584,
          null,
          -0.9888989966046758,
          -0.8322474579360658,
          null,
          -0.9888989966046758,
          0.8562768526551058,
          null,
          -0.9888989966046758,
          -0.6039810093153518,
          null,
          -0.9888989966046758,
          0.5707963663180012,
          null,
          -0.9888989966046758,
          -0.618302363529858,
          null,
          -0.9888989966046758,
          -0.2189082684724568,
          null,
          -0.9888989966046758,
          0.32102479893391117,
          null,
          -0.9888989966046758,
          0.7703898692823918,
          null,
          -0.9888989966046758,
          -0.6164494117969774,
          null,
          -0.9888989966046758,
          -0.2962047797016971,
          null,
          -0.9888989966046758,
          -0.23193074308673942,
          null,
          -0.9888989966046758,
          0.1955739807918065,
          null,
          -0.9888989966046758,
          0.48733754908469623,
          null,
          -0.9888989966046758,
          0.23285860252995821,
          null,
          -0.9888989966046758,
          -0.39573300235243314,
          null,
          -0.9888989966046758,
          0.4687143817951966,
          null,
          -0.9888989966046758,
          -0.10666960741080131,
          null,
          -0.10666960741080131,
          0.4687143817951966,
          null,
          -0.10666960741080131,
          -0.6164494117969774,
          null,
          -0.10666960741080131,
          -0.23193074308673942,
          null,
          -0.10666960741080131,
          0.7703898692823918,
          null,
          -0.10666960741080131,
          0.48733754908469623,
          null,
          -0.10666960741080131,
          0.23285860252995821,
          null,
          -0.10666960741080131,
          -0.8322474579360658,
          null,
          -0.10666960741080131,
          -0.6039810093153518,
          null,
          -0.10666960741080131,
          -0.39573300235243314,
          null,
          -0.10666960741080131,
          0.4326394807554932,
          null,
          -0.10666960741080131,
          0.34378352278069507,
          null,
          -0.10666960741080131,
          0.5707963663180012,
          null,
          -0.10666960741080131,
          -0.34810207833076584,
          null,
          -0.10666960741080131,
          0.8562768526551058,
          null,
          -0.10666960741080131,
          -0.618302363529858,
          null,
          -0.10666960741080131,
          0.1955739807918065,
          null,
          -0.10666960741080131,
          -0.2189082684724568,
          null,
          -0.10666960741080131,
          -0.2962047797016971,
          null,
          -0.10666960741080131,
          0.32102479893391117,
          null,
          -0.39573300235243314,
          0.48733754908469623,
          null,
          -0.39573300235243314,
          0.23285860252995821,
          null,
          -0.39573300235243314,
          0.7703898692823918,
          null,
          -0.39573300235243314,
          -0.23193074308673942,
          null,
          -0.39573300235243314,
          -0.6164494117969774,
          null,
          -0.39573300235243314,
          0.4687143817951966,
          null,
          -0.39573300235243314,
          0.34378352278069507,
          null,
          -0.39573300235243314,
          -0.8322474579360658,
          null,
          -0.39573300235243314,
          0.4326394807554932,
          null,
          -0.39573300235243314,
          -0.34810207833076584,
          null,
          -0.39573300235243314,
          -0.618302363529858,
          null,
          -0.39573300235243314,
          0.5707963663180012,
          null,
          -0.39573300235243314,
          -0.6039810093153518,
          null,
          -0.39573300235243314,
          0.32102479893391117,
          null,
          -0.39573300235243314,
          0.8562768526551058,
          null,
          -0.39573300235243314,
          -0.2962047797016971,
          null,
          -0.39573300235243314,
          0.1955739807918065,
          null,
          -0.39573300235243314,
          -0.2189082684724568,
          null,
          -0.8322474579360658,
          0.8562768526551058,
          null,
          -0.8322474579360658,
          -0.618302363529858,
          null,
          -0.8322474579360658,
          0.32102479893391117,
          null,
          -0.8322474579360658,
          0.4326394807554932,
          null,
          -0.8322474579360658,
          0.34378352278069507,
          null,
          -0.8322474579360658,
          -0.2189082684724568,
          null,
          -0.8322474579360658,
          0.1955739807918065,
          null,
          -0.8322474579360658,
          -0.34810207833076584,
          null,
          -0.8322474579360658,
          -0.6039810093153518,
          null,
          -0.8322474579360658,
          0.5707963663180012,
          null,
          -0.8322474579360658,
          -0.6164494117969774,
          null,
          -0.8322474579360658,
          -0.2962047797016971,
          null,
          -0.8322474579360658,
          0.7703898692823918,
          null,
          -0.8322474579360658,
          -0.23193074308673942,
          null,
          -0.8322474579360658,
          0.4687143817951966,
          null,
          -0.8322474579360658,
          0.48733754908469623,
          null,
          -0.8322474579360658,
          0.23285860252995821,
          null,
          0.1955739807918065,
          0.8562768526551058,
          null,
          0.1955739807918065,
          0.4326394807554932,
          null,
          0.1955739807918065,
          -0.6164494117969774,
          null,
          0.1955739807918065,
          0.5707963663180012,
          null,
          0.1955739807918065,
          -0.6039810093153518,
          null,
          0.1955739807918065,
          -0.618302363529858,
          null,
          0.1955739807918065,
          0.34378352278069507,
          null,
          0.1955739807918065,
          -0.2962047797016971,
          null,
          0.1955739807918065,
          -0.34810207833076584,
          null,
          0.1955739807918065,
          0.32102479893391117,
          null,
          0.1955739807918065,
          0.23285860252995821,
          null,
          0.1955739807918065,
          0.7703898692823918,
          null,
          0.1955739807918065,
          0.48733754908469623,
          null,
          0.1955739807918065,
          -0.2189082684724568,
          null,
          0.1955739807918065,
          -0.23193074308673942,
          null,
          0.1955739807918065,
          0.4687143817951966,
          null,
          -0.2962047797016971,
          -0.6039810093153518,
          null,
          -0.2962047797016971,
          0.34378352278069507,
          null,
          -0.2962047797016971,
          0.4326394807554932,
          null,
          -0.2962047797016971,
          -0.34810207833076584,
          null,
          -0.2962047797016971,
          0.8562768526551058,
          null,
          -0.2962047797016971,
          -0.618302363529858,
          null,
          -0.2962047797016971,
          0.5707963663180012,
          null,
          -0.2962047797016971,
          0.32102479893391117,
          null,
          -0.2962047797016971,
          -0.6164494117969774,
          null,
          -0.2962047797016971,
          0.48733754908469623,
          null,
          -0.2962047797016971,
          0.7703898692823918,
          null,
          -0.2962047797016971,
          -0.23193074308673942,
          null,
          -0.2962047797016971,
          0.23285860252995821,
          null,
          -0.2962047797016971,
          -0.2189082684724568,
          null,
          -0.2962047797016971,
          0.4687143817951966,
          null,
          0.32102479893391117,
          0.8562768526551058,
          null,
          0.32102479893391117,
          -0.618302363529858,
          null,
          0.32102479893391117,
          0.4326394807554932,
          null,
          0.32102479893391117,
          -0.34810207833076584,
          null,
          0.32102479893391117,
          0.34378352278069507,
          null,
          0.32102479893391117,
          -0.2189082684724568,
          null,
          0.32102479893391117,
          0.5707963663180012,
          null,
          0.32102479893391117,
          -0.6039810093153518,
          null,
          0.32102479893391117,
          0.7703898692823918,
          null,
          0.32102479893391117,
          0.23285860252995821,
          null,
          0.32102479893391117,
          0.48733754908469623,
          null,
          0.32102479893391117,
          -0.6164494117969774,
          null,
          0.32102479893391117,
          -0.23193074308673942,
          null,
          0.32102479893391117,
          0.4687143817951966,
          null,
          0.4326394807554932,
          0.34378352278069507,
          null,
          0.4326394807554932,
          -0.34810207833076584,
          null,
          0.4326394807554932,
          0.8562768526551058,
          null,
          0.4326394807554932,
          -0.6039810093153518,
          null,
          0.4326394807554932,
          -0.2189082684724568,
          null,
          0.4326394807554932,
          0.5707963663180012,
          null,
          0.4326394807554932,
          -0.618302363529858,
          null,
          0.4326394807554932,
          -0.6164494117969774,
          null,
          0.4326394807554932,
          0.7703898692823918,
          null,
          0.4326394807554932,
          -0.23193074308673942,
          null,
          0.4326394807554932,
          0.4687143817951966,
          null,
          0.4326394807554932,
          0.23285860252995821,
          null,
          0.4326394807554932,
          0.48733754908469623,
          null,
          0.48733754908469623,
          0.7703898692823918,
          null,
          0.48733754908469623,
          0.23285860252995821,
          null,
          0.48733754908469623,
          -0.23193074308673942,
          null,
          0.48733754908469623,
          -0.6164494117969774,
          null,
          0.48733754908469623,
          0.4687143817951966,
          null,
          0.48733754908469623,
          0.34378352278069507,
          null,
          0.48733754908469623,
          -0.34810207833076584,
          null,
          0.48733754908469623,
          -0.6039810093153518,
          null,
          0.48733754908469623,
          -0.618302363529858,
          null,
          0.48733754908469623,
          0.8562768526551058,
          null,
          0.48733754908469623,
          0.5707963663180012,
          null,
          0.48733754908469623,
          -0.2189082684724568,
          null,
          -0.6039810093153518,
          0.34378352278069507,
          null,
          -0.6039810093153518,
          -0.34810207833076584,
          null,
          -0.6039810093153518,
          0.8562768526551058,
          null,
          -0.6039810093153518,
          0.5707963663180012,
          null,
          -0.6039810093153518,
          -0.618302363529858,
          null,
          -0.6039810093153518,
          -0.6164494117969774,
          null,
          -0.6039810093153518,
          0.7703898692823918,
          null,
          -0.6039810093153518,
          -0.2189082684724568,
          null,
          -0.6039810093153518,
          0.4687143817951966,
          null,
          -0.6039810093153518,
          -0.23193074308673942,
          null,
          -0.6039810093153518,
          0.23285860252995821,
          null,
          -0.34810207833076584,
          0.34378352278069507,
          null,
          -0.34810207833076584,
          0.8562768526551058,
          null,
          -0.34810207833076584,
          -0.2189082684724568,
          null,
          -0.34810207833076584,
          -0.618302363529858,
          null,
          -0.34810207833076584,
          0.5707963663180012,
          null,
          -0.34810207833076584,
          -0.6164494117969774,
          null,
          -0.34810207833076584,
          -0.23193074308673942,
          null,
          -0.34810207833076584,
          0.7703898692823918,
          null,
          -0.34810207833076584,
          0.23285860252995821,
          null,
          -0.34810207833076584,
          0.4687143817951966,
          null,
          -0.618302363529858,
          0.8562768526551058,
          null,
          -0.618302363529858,
          0.34378352278069507,
          null,
          -0.618302363529858,
          0.5707963663180012,
          null,
          -0.618302363529858,
          -0.2189082684724568,
          null,
          -0.618302363529858,
          -0.6164494117969774,
          null,
          -0.618302363529858,
          -0.23193074308673942,
          null,
          -0.618302363529858,
          0.7703898692823918,
          null,
          -0.618302363529858,
          0.4687143817951966,
          null,
          -0.618302363529858,
          0.23285860252995821,
          null,
          0.8562768526551058,
          0.34378352278069507,
          null,
          0.8562768526551058,
          0.5707963663180012,
          null,
          0.8562768526551058,
          -0.2189082684724568,
          null,
          0.8562768526551058,
          -0.6164494117969774,
          null,
          0.8562768526551058,
          0.7703898692823918,
          null,
          0.8562768526551058,
          0.23285860252995821,
          null,
          0.8562768526551058,
          -0.23193074308673942,
          null,
          0.8562768526551058,
          0.4687143817951966,
          null,
          -0.23193074308673942,
          -0.6164494117969774,
          null,
          -0.23193074308673942,
          0.4687143817951966,
          null,
          -0.23193074308673942,
          0.7703898692823918,
          null,
          -0.23193074308673942,
          0.23285860252995821,
          null,
          -0.23193074308673942,
          0.34378352278069507,
          null,
          -0.23193074308673942,
          0.5707963663180012,
          null,
          -0.23193074308673942,
          -0.2189082684724568,
          null,
          0.23285860252995821,
          0.7703898692823918,
          null,
          0.23285860252995821,
          -0.6164494117969774,
          null,
          0.23285860252995821,
          0.4687143817951966,
          null,
          0.23285860252995821,
          0.34378352278069507,
          null,
          0.23285860252995821,
          0.5707963663180012,
          null,
          0.23285860252995821,
          -0.2189082684724568,
          null,
          0.34378352278069507,
          0.5707963663180012,
          null,
          0.34378352278069507,
          -0.2189082684724568,
          null,
          0.34378352278069507,
          -0.6164494117969774,
          null,
          0.34378352278069507,
          0.7703898692823918,
          null,
          0.34378352278069507,
          0.4687143817951966,
          null,
          -0.2189082684724568,
          0.5707963663180012,
          null,
          -0.2189082684724568,
          -0.6164494117969774,
          null,
          -0.2189082684724568,
          0.7703898692823918,
          null,
          -0.2189082684724568,
          0.4687143817951966,
          null,
          0.4687143817951966,
          -0.6164494117969774,
          null,
          0.4687143817951966,
          0.7703898692823918,
          null,
          0.4687143817951966,
          0.5707963663180012,
          null,
          0.7703898692823918,
          -0.6164494117969774,
          null,
          0.7703898692823918,
          0.5707963663180012,
          null,
          0.5707963663180012,
          -0.6164494117969774,
          null
         ]
        },
        {
         "hoverinfo": "none",
         "line": {
          "color": "red",
          "width": 0.5
         },
         "mode": "lines",
         "type": "scatter",
         "x": [
          0.733140138462282,
          0.6144611476896625,
          null,
          0.733140138462282,
          -0.11026629783069604,
          null,
          0.733140138462282,
          -0.7155532019890748,
          null,
          0.733140138462282,
          0.5558613030575593,
          null,
          0.733140138462282,
          -0.45629617983079807,
          null,
          0.733140138462282,
          -0.3766160447302999,
          null,
          0.733140138462282,
          0.6439220615088818,
          null,
          0.733140138462282,
          0.09552698478160877,
          null,
          0.733140138462282,
          1,
          null,
          0.733140138462282,
          -0.9728053708750592,
          null,
          0.733140138462282,
          0.9030358568675082,
          null,
          0.733140138462282,
          0.11757827163164307,
          null,
          0.733140138462282,
          -0.9850319421148813,
          null,
          0.733140138462282,
          -0.6022555688644293,
          null,
          0.733140138462282,
          0.24401197697534693,
          null,
          0.733140138462282,
          -0.508936670028045,
          null,
          0.733140138462282,
          -0.5856624487005451,
          null,
          0.733140138462282,
          0.19460304598837272,
          null,
          0.733140138462282,
          -0.0400189887955811,
          null,
          0.733140138462282,
          0.44547136123646525,
          null,
          0.733140138462282,
          0.3029075481450755,
          null,
          0.733140138462282,
          -0.3052298532103115,
          null,
          0.733140138462282,
          -0.15515556403879557,
          null,
          0.733140138462282,
          0.2864404206525119,
          null,
          0.733140138462282,
          -0.08262325561506051,
          null,
          0.733140138462282,
          0.3169469081832996,
          null,
          0.733140138462282,
          -0.10540353830155513,
          null,
          0.733140138462282,
          -0.4433937674744175,
          null,
          0.733140138462282,
          -0.008658332780676936,
          null
         ],
         "y": [
          -0.04816307006289745,
          -0.8322474579360658,
          null,
          -0.04816307006289745,
          0.8562768526551058,
          null,
          -0.04816307006289745,
          -0.618302363529858,
          null,
          -0.04816307006289745,
          0.7318313836327796,
          null,
          -0.04816307006289745,
          -0.8150972764074151,
          null,
          -0.04816307006289745,
          0.7243269047667664,
          null,
          -0.04816307006289745,
          0.32102479893391117,
          null,
          -0.04816307006289745,
          -0.9888989966046758,
          null,
          -0.04816307006289745,
          0.34378352278069507,
          null,
          -0.04816307006289745,
          0.4326394807554932,
          null,
          -0.04816307006289745,
          -0.34810207833076584,
          null,
          -0.04816307006289745,
          -0.6039810093153518,
          null,
          -0.04816307006289745,
          0.016849326438169228,
          null,
          -0.04816307006289745,
          0.5707963663180012,
          null,
          -0.04816307006289745,
          -0.2189082684724568,
          null,
          -0.04816307006289745,
          -0.2962047797016971,
          null,
          -0.04816307006289745,
          -0.034558610620562674,
          null,
          -0.04816307006289745,
          0.7703898692823918,
          null,
          -0.04816307006289745,
          -0.23470019931283775,
          null,
          -0.04816307006289745,
          -0.39573300235243314,
          null,
          -0.04816307006289745,
          0.1955739807918065,
          null,
          -0.04816307006289745,
          -0.23193074308673942,
          null,
          -0.04816307006289745,
          -0.6164494117969774,
          null,
          -0.04816307006289745,
          0.48733754908469623,
          null,
          -0.04816307006289745,
          0.4687143817951966,
          null,
          -0.04816307006289745,
          -0.10666960741080131,
          null,
          -0.04816307006289745,
          0.12559298650389453,
          null,
          -0.04816307006289745,
          0.23285860252995821,
          null,
          -0.04816307006289745,
          0.11195086867266364,
          null
         ]
        },
        {
         "hoverinfo": "text",
         "marker": {
          "color": [
           "red",
           "#46039f",
           "#46039f",
           "#46039f",
           "#46039f",
           "#46039f",
           "#46039f",
           "#46039f",
           "#46039f",
           "#46039f",
           "#46039f",
           "#46039f",
           "#46039f",
           "#46039f",
           "#46039f",
           "#46039f",
           "#46039f",
           "#46039f",
           "#46039f",
           "#46039f",
           "#46039f",
           "#46039f",
           "#46039f",
           "#46039f",
           "#46039f",
           "#46039f",
           "#46039f",
           "#46039f",
           "#46039f",
           "#46039f"
          ],
          "line": {
           "width": 2
          },
          "size": 10
         },
         "mode": "markers",
         "text": [
          "Thor",
          "Hawk",
          "Dr. Strange",
          "Professor X",
          "Beast",
          "Scarlet Witch",
          "Wasp",
          "Jameson, J. Jonah",
          "Watson-Parker, Mary",
          "Mr. Fantastic",
          "Nightcrawler",
          "Iceman",
          "Captain America",
          "Fury, Col. Nicholas",
          "Daredevil",
          "Ant-Man",
          "Thing",
          "Angel",
          "Spider-Man",
          "Invisible Woman",
          "Vision",
          "Iron Man",
          "Storm",
          "Marvel Girl",
          "Human Torch",
          "Sub-Mariner",
          "Colossus Ii",
          "Cyclops",
          "Hulk",
          "Wolverine"
         ],
         "type": "scatter",
         "x": [
          0.733140138462282,
          -0.3766160447302999,
          -0.5856624487005451,
          -0.0400189887955811,
          -0.9850319421148813,
          0.5558613030575593,
          -0.45629617983079807,
          -0.10540353830155513,
          -0.008658332780676936,
          0.09552698478160877,
          0.3169469081832996,
          0.44547136123646525,
          0.6144611476896625,
          0.3029075481450755,
          -0.508936670028045,
          0.6439220615088818,
          -0.9728053708750592,
          0.2864404206525119,
          0.11757827163164307,
          0.9030358568675082,
          -0.7155532019890748,
          -0.11026629783069604,
          -0.3052298532103115,
          -0.4433937674744175,
          1,
          0.24401197697534693,
          -0.08262325561506051,
          0.19460304598837272,
          -0.6022555688644293,
          -0.15515556403879557
         ],
         "y": [
          -0.04816307006289745,
          0.7243269047667664,
          -0.034558610620562674,
          -0.23470019931283775,
          0.016849326438169228,
          0.7318313836327796,
          -0.8150972764074151,
          0.12559298650389453,
          0.11195086867266364,
          -0.9888989966046758,
          -0.10666960741080131,
          -0.39573300235243314,
          -0.8322474579360658,
          0.1955739807918065,
          -0.2962047797016971,
          0.32102479893391117,
          0.4326394807554932,
          0.48733754908469623,
          -0.6039810093153518,
          -0.34810207833076584,
          -0.618302363529858,
          0.8562768526551058,
          -0.23193074308673942,
          0.23285860252995821,
          0.34378352278069507,
          -0.2189082684724568,
          0.4687143817951966,
          0.7703898692823918,
          0.5707963663180012,
          -0.6164494117969774
         ]
        }
       ],
       "layout": {
        "hovermode": "closest",
        "margin": {
         "b": 20,
         "l": 5,
         "r": 5,
         "t": 40
        },
        "showlegend": false,
        "template": {
         "data": {
          "bar": [
           {
            "error_x": {
             "color": "#2a3f5f"
            },
            "error_y": {
             "color": "#2a3f5f"
            },
            "marker": {
             "line": {
              "color": "#E5ECF6",
              "width": 0.5
             },
             "pattern": {
              "fillmode": "overlay",
              "size": 10,
              "solidity": 0.2
             }
            },
            "type": "bar"
           }
          ],
          "barpolar": [
           {
            "marker": {
             "line": {
              "color": "#E5ECF6",
              "width": 0.5
             },
             "pattern": {
              "fillmode": "overlay",
              "size": 10,
              "solidity": 0.2
             }
            },
            "type": "barpolar"
           }
          ],
          "carpet": [
           {
            "aaxis": {
             "endlinecolor": "#2a3f5f",
             "gridcolor": "white",
             "linecolor": "white",
             "minorgridcolor": "white",
             "startlinecolor": "#2a3f5f"
            },
            "baxis": {
             "endlinecolor": "#2a3f5f",
             "gridcolor": "white",
             "linecolor": "white",
             "minorgridcolor": "white",
             "startlinecolor": "#2a3f5f"
            },
            "type": "carpet"
           }
          ],
          "choropleth": [
           {
            "colorbar": {
             "outlinewidth": 0,
             "ticks": ""
            },
            "type": "choropleth"
           }
          ],
          "contour": [
           {
            "colorbar": {
             "outlinewidth": 0,
             "ticks": ""
            },
            "colorscale": [
             [
              0,
              "#0d0887"
             ],
             [
              0.1111111111111111,
              "#46039f"
             ],
             [
              0.2222222222222222,
              "#7201a8"
             ],
             [
              0.3333333333333333,
              "#9c179e"
             ],
             [
              0.4444444444444444,
              "#bd3786"
             ],
             [
              0.5555555555555556,
              "#d8576b"
             ],
             [
              0.6666666666666666,
              "#ed7953"
             ],
             [
              0.7777777777777778,
              "#fb9f3a"
             ],
             [
              0.8888888888888888,
              "#fdca26"
             ],
             [
              1,
              "#f0f921"
             ]
            ],
            "type": "contour"
           }
          ],
          "contourcarpet": [
           {
            "colorbar": {
             "outlinewidth": 0,
             "ticks": ""
            },
            "type": "contourcarpet"
           }
          ],
          "heatmap": [
           {
            "colorbar": {
             "outlinewidth": 0,
             "ticks": ""
            },
            "colorscale": [
             [
              0,
              "#0d0887"
             ],
             [
              0.1111111111111111,
              "#46039f"
             ],
             [
              0.2222222222222222,
              "#7201a8"
             ],
             [
              0.3333333333333333,
              "#9c179e"
             ],
             [
              0.4444444444444444,
              "#bd3786"
             ],
             [
              0.5555555555555556,
              "#d8576b"
             ],
             [
              0.6666666666666666,
              "#ed7953"
             ],
             [
              0.7777777777777778,
              "#fb9f3a"
             ],
             [
              0.8888888888888888,
              "#fdca26"
             ],
             [
              1,
              "#f0f921"
             ]
            ],
            "type": "heatmap"
           }
          ],
          "heatmapgl": [
           {
            "colorbar": {
             "outlinewidth": 0,
             "ticks": ""
            },
            "colorscale": [
             [
              0,
              "#0d0887"
             ],
             [
              0.1111111111111111,
              "#46039f"
             ],
             [
              0.2222222222222222,
              "#7201a8"
             ],
             [
              0.3333333333333333,
              "#9c179e"
             ],
             [
              0.4444444444444444,
              "#bd3786"
             ],
             [
              0.5555555555555556,
              "#d8576b"
             ],
             [
              0.6666666666666666,
              "#ed7953"
             ],
             [
              0.7777777777777778,
              "#fb9f3a"
             ],
             [
              0.8888888888888888,
              "#fdca26"
             ],
             [
              1,
              "#f0f921"
             ]
            ],
            "type": "heatmapgl"
           }
          ],
          "histogram": [
           {
            "marker": {
             "pattern": {
              "fillmode": "overlay",
              "size": 10,
              "solidity": 0.2
             }
            },
            "type": "histogram"
           }
          ],
          "histogram2d": [
           {
            "colorbar": {
             "outlinewidth": 0,
             "ticks": ""
            },
            "colorscale": [
             [
              0,
              "#0d0887"
             ],
             [
              0.1111111111111111,
              "#46039f"
             ],
             [
              0.2222222222222222,
              "#7201a8"
             ],
             [
              0.3333333333333333,
              "#9c179e"
             ],
             [
              0.4444444444444444,
              "#bd3786"
             ],
             [
              0.5555555555555556,
              "#d8576b"
             ],
             [
              0.6666666666666666,
              "#ed7953"
             ],
             [
              0.7777777777777778,
              "#fb9f3a"
             ],
             [
              0.8888888888888888,
              "#fdca26"
             ],
             [
              1,
              "#f0f921"
             ]
            ],
            "type": "histogram2d"
           }
          ],
          "histogram2dcontour": [
           {
            "colorbar": {
             "outlinewidth": 0,
             "ticks": ""
            },
            "colorscale": [
             [
              0,
              "#0d0887"
             ],
             [
              0.1111111111111111,
              "#46039f"
             ],
             [
              0.2222222222222222,
              "#7201a8"
             ],
             [
              0.3333333333333333,
              "#9c179e"
             ],
             [
              0.4444444444444444,
              "#bd3786"
             ],
             [
              0.5555555555555556,
              "#d8576b"
             ],
             [
              0.6666666666666666,
              "#ed7953"
             ],
             [
              0.7777777777777778,
              "#fb9f3a"
             ],
             [
              0.8888888888888888,
              "#fdca26"
             ],
             [
              1,
              "#f0f921"
             ]
            ],
            "type": "histogram2dcontour"
           }
          ],
          "mesh3d": [
           {
            "colorbar": {
             "outlinewidth": 0,
             "ticks": ""
            },
            "type": "mesh3d"
           }
          ],
          "parcoords": [
           {
            "line": {
             "colorbar": {
              "outlinewidth": 0,
              "ticks": ""
             }
            },
            "type": "parcoords"
           }
          ],
          "pie": [
           {
            "automargin": true,
            "type": "pie"
           }
          ],
          "scatter": [
           {
            "marker": {
             "colorbar": {
              "outlinewidth": 0,
              "ticks": ""
             }
            },
            "type": "scatter"
           }
          ],
          "scatter3d": [
           {
            "line": {
             "colorbar": {
              "outlinewidth": 0,
              "ticks": ""
             }
            },
            "marker": {
             "colorbar": {
              "outlinewidth": 0,
              "ticks": ""
             }
            },
            "type": "scatter3d"
           }
          ],
          "scattercarpet": [
           {
            "marker": {
             "colorbar": {
              "outlinewidth": 0,
              "ticks": ""
             }
            },
            "type": "scattercarpet"
           }
          ],
          "scattergeo": [
           {
            "marker": {
             "colorbar": {
              "outlinewidth": 0,
              "ticks": ""
             }
            },
            "type": "scattergeo"
           }
          ],
          "scattergl": [
           {
            "marker": {
             "colorbar": {
              "outlinewidth": 0,
              "ticks": ""
             }
            },
            "type": "scattergl"
           }
          ],
          "scattermapbox": [
           {
            "marker": {
             "colorbar": {
              "outlinewidth": 0,
              "ticks": ""
             }
            },
            "type": "scattermapbox"
           }
          ],
          "scatterpolar": [
           {
            "marker": {
             "colorbar": {
              "outlinewidth": 0,
              "ticks": ""
             }
            },
            "type": "scatterpolar"
           }
          ],
          "scatterpolargl": [
           {
            "marker": {
             "colorbar": {
              "outlinewidth": 0,
              "ticks": ""
             }
            },
            "type": "scatterpolargl"
           }
          ],
          "scatterternary": [
           {
            "marker": {
             "colorbar": {
              "outlinewidth": 0,
              "ticks": ""
             }
            },
            "type": "scatterternary"
           }
          ],
          "surface": [
           {
            "colorbar": {
             "outlinewidth": 0,
             "ticks": ""
            },
            "colorscale": [
             [
              0,
              "#0d0887"
             ],
             [
              0.1111111111111111,
              "#46039f"
             ],
             [
              0.2222222222222222,
              "#7201a8"
             ],
             [
              0.3333333333333333,
              "#9c179e"
             ],
             [
              0.4444444444444444,
              "#bd3786"
             ],
             [
              0.5555555555555556,
              "#d8576b"
             ],
             [
              0.6666666666666666,
              "#ed7953"
             ],
             [
              0.7777777777777778,
              "#fb9f3a"
             ],
             [
              0.8888888888888888,
              "#fdca26"
             ],
             [
              1,
              "#f0f921"
             ]
            ],
            "type": "surface"
           }
          ],
          "table": [
           {
            "cells": {
             "fill": {
              "color": "#EBF0F8"
             },
             "line": {
              "color": "white"
             }
            },
            "header": {
             "fill": {
              "color": "#C8D4E3"
             },
             "line": {
              "color": "white"
             }
            },
            "type": "table"
           }
          ]
         },
         "layout": {
          "annotationdefaults": {
           "arrowcolor": "#2a3f5f",
           "arrowhead": 0,
           "arrowwidth": 1
          },
          "autotypenumbers": "strict",
          "coloraxis": {
           "colorbar": {
            "outlinewidth": 0,
            "ticks": ""
           }
          },
          "colorscale": {
           "diverging": [
            [
             0,
             "#8e0152"
            ],
            [
             0.1,
             "#c51b7d"
            ],
            [
             0.2,
             "#de77ae"
            ],
            [
             0.3,
             "#f1b6da"
            ],
            [
             0.4,
             "#fde0ef"
            ],
            [
             0.5,
             "#f7f7f7"
            ],
            [
             0.6,
             "#e6f5d0"
            ],
            [
             0.7,
             "#b8e186"
            ],
            [
             0.8,
             "#7fbc41"
            ],
            [
             0.9,
             "#4d9221"
            ],
            [
             1,
             "#276419"
            ]
           ],
           "sequential": [
            [
             0,
             "#0d0887"
            ],
            [
             0.1111111111111111,
             "#46039f"
            ],
            [
             0.2222222222222222,
             "#7201a8"
            ],
            [
             0.3333333333333333,
             "#9c179e"
            ],
            [
             0.4444444444444444,
             "#bd3786"
            ],
            [
             0.5555555555555556,
             "#d8576b"
            ],
            [
             0.6666666666666666,
             "#ed7953"
            ],
            [
             0.7777777777777778,
             "#fb9f3a"
            ],
            [
             0.8888888888888888,
             "#fdca26"
            ],
            [
             1,
             "#f0f921"
            ]
           ],
           "sequentialminus": [
            [
             0,
             "#0d0887"
            ],
            [
             0.1111111111111111,
             "#46039f"
            ],
            [
             0.2222222222222222,
             "#7201a8"
            ],
            [
             0.3333333333333333,
             "#9c179e"
            ],
            [
             0.4444444444444444,
             "#bd3786"
            ],
            [
             0.5555555555555556,
             "#d8576b"
            ],
            [
             0.6666666666666666,
             "#ed7953"
            ],
            [
             0.7777777777777778,
             "#fb9f3a"
            ],
            [
             0.8888888888888888,
             "#fdca26"
            ],
            [
             1,
             "#f0f921"
            ]
           ]
          },
          "colorway": [
           "#636efa",
           "#EF553B",
           "#00cc96",
           "#ab63fa",
           "#FFA15A",
           "#19d3f3",
           "#FF6692",
           "#B6E880",
           "#FF97FF",
           "#FECB52"
          ],
          "font": {
           "color": "#2a3f5f"
          },
          "geo": {
           "bgcolor": "white",
           "lakecolor": "white",
           "landcolor": "#E5ECF6",
           "showlakes": true,
           "showland": true,
           "subunitcolor": "white"
          },
          "hoverlabel": {
           "align": "left"
          },
          "hovermode": "closest",
          "mapbox": {
           "style": "light"
          },
          "paper_bgcolor": "white",
          "plot_bgcolor": "#E5ECF6",
          "polar": {
           "angularaxis": {
            "gridcolor": "white",
            "linecolor": "white",
            "ticks": ""
           },
           "bgcolor": "#E5ECF6",
           "radialaxis": {
            "gridcolor": "white",
            "linecolor": "white",
            "ticks": ""
           }
          },
          "scene": {
           "xaxis": {
            "backgroundcolor": "#E5ECF6",
            "gridcolor": "white",
            "gridwidth": 2,
            "linecolor": "white",
            "showbackground": true,
            "ticks": "",
            "zerolinecolor": "white"
           },
           "yaxis": {
            "backgroundcolor": "#E5ECF6",
            "gridcolor": "white",
            "gridwidth": 2,
            "linecolor": "white",
            "showbackground": true,
            "ticks": "",
            "zerolinecolor": "white"
           },
           "zaxis": {
            "backgroundcolor": "#E5ECF6",
            "gridcolor": "white",
            "gridwidth": 2,
            "linecolor": "white",
            "showbackground": true,
            "ticks": "",
            "zerolinecolor": "white"
           }
          },
          "shapedefaults": {
           "line": {
            "color": "#2a3f5f"
           }
          },
          "ternary": {
           "aaxis": {
            "gridcolor": "white",
            "linecolor": "white",
            "ticks": ""
           },
           "baxis": {
            "gridcolor": "white",
            "linecolor": "white",
            "ticks": ""
           },
           "bgcolor": "#E5ECF6",
           "caxis": {
            "gridcolor": "white",
            "linecolor": "white",
            "ticks": ""
           }
          },
          "title": {
           "x": 0.05
          },
          "xaxis": {
           "automargin": true,
           "gridcolor": "white",
           "linecolor": "white",
           "ticks": "",
           "title": {
            "standoff": 15
           },
           "zerolinecolor": "white",
           "zerolinewidth": 2
          },
          "yaxis": {
           "automargin": true,
           "gridcolor": "white",
           "linecolor": "white",
           "ticks": "",
           "title": {
            "standoff": 15
           },
           "zerolinecolor": "white",
           "zerolinewidth": 2
          }
         }
        },
        "title": {
         "font": {
          "size": 16
         },
         "text": "Communities"
        }
       }
      }
     },
     "metadata": {},
     "output_type": "display_data"
    }
   ],
   "source": [
    "info = extracting_communities(G1, 30, 'CAPTAIN AMERICA', 'IRON MAN/TONY STARK', verbose=False)\n",
    "\n",
    "# Information to print\n",
    "print('The number of edges to cut is:', info['Edges to cut'])\n",
    "print('Captain America and Ironman belong to the same community:', info['Same community'])\n",
    "for i, community in enumerate(info['Communities']):\n",
    "    print(f'Community {i+1}:')\n",
    "    print(tabulate([community], tablefmt='fancy_grid'))\n",
    "\n",
    "# We plot the communities\n",
    "subg = info['Subgraph']\n",
    "pos = nx.spring_layout(subg)\n",
    "\n",
    "edges = {'edge_x': [],'edge_y': []}\n",
    "edges_removed = {'edge_x': [],'edge_y': []}\n",
    "for edge in subg.edges():\n",
    "    x0, y0 = pos[edge[0]]\n",
    "    x1, y1 = pos[edge[1]]\n",
    "    if edge in info['Edges removed']:\n",
    "        edges_removed['edge_x'].append(x0)\n",
    "        edges_removed['edge_x'].append(x1)\n",
    "        edges_removed['edge_x'].append(None)\n",
    "        edges_removed['edge_y'].append(y0)\n",
    "        edges_removed['edge_y'].append(y1)\n",
    "        edges_removed['edge_y'].append(None)\n",
    "    else:\n",
    "        edges['edge_x'].append(x0)\n",
    "        edges['edge_x'].append(x1)\n",
    "        edges['edge_x'].append(None)\n",
    "        edges['edge_y'].append(y0)\n",
    "        edges['edge_y'].append(y1)\n",
    "        edges['edge_y'].append(None)\n",
    "\n",
    "edge_trace = go.Scatter(\n",
    "    x=edges['edge_x'], y=edges['edge_y'],\n",
    "    line=dict(width=0.5, color='#888'),\n",
    "    hoverinfo='none',\n",
    "    mode='lines')\n",
    "\n",
    "edge_trace_removed = go.Scatter(\n",
    "    x=edges_removed['edge_x'], y=edges_removed['edge_y'],\n",
    "    line=dict(width=0.5, color='red'),\n",
    "    hoverinfo='none',\n",
    "    mode='lines')\n",
    "\n",
    "\n",
    "nodes = {'node_x': [],'node_y': []}\n",
    "for node in subg.nodes():\n",
    "    x, y = pos[node]\n",
    "    nodes['node_x'].append(x)\n",
    "    nodes['node_y'].append(y)\n",
    "\n",
    "node_trace = go.Scatter(\n",
    "    x=nodes['node_x'], y=nodes['node_y'],\n",
    "    mode='markers',\n",
    "    hoverinfo='text',\n",
    "    marker=dict(\n",
    "        size=10,\n",
    "        line_width=2))\n",
    "\n",
    "colorpalette = px.colors.sequential.Plasma\n",
    "def get_color(node):\n",
    "    for i, community in enumerate(info['Communities']):\n",
    "        if node in community:\n",
    "            if i == 0:\n",
    "                return 'red'\n",
    "            return colorpalette[i]\n",
    "\n",
    "node_trace.marker.color = [get_color(node) for node in subg.nodes()]\n",
    "node_trace.text = [node.split('/')[0].title() for node in subg.nodes()]\n",
    "\n",
    "fig = go.Figure(data=[edge_trace, edge_trace_removed, node_trace],\n",
    "                layout=go.Layout(\n",
    "                    title='Communities',\n",
    "                    titlefont_size=16,\n",
    "                    showlegend=False,\n",
    "                    hovermode='closest',\n",
    "                    margin=dict(b=20,l=5,r=5,t=40))\n",
    "                    )\n",
    "fig.show()"
   ]
  },
  {
   "attachments": {},
   "cell_type": "markdown",
   "metadata": {},
   "source": [
    "## 4. Command Line Questions"
   ]
  },
  {
   "cell_type": "code",
   "execution_count": 400,
   "metadata": {},
   "outputs": [
    {
     "name": "stdout",
     "output_type": "stream",
     "text": [
      "Most popular pair of heroes:\n",
      "\"PATRIOT/JEFF MACE\",\"PATRIOT/JEFF MACE\" ,1275\n",
      "Number of comics per hero:\n",
      "SODIUM ,2\n",
      "\"MUNROE ,3\n",
      "ACROBAT/CARL ZANTE ,3\n",
      "\"BAPTISTE ,1\n",
      "MAN-BULL/BULL TAURUS ,9\n",
      "SIBERCAT/ ,2\n",
      "BRUTE/REED RICHARDS ,9\n",
      "RINGMASTER/MAYNARD T ,34\n",
      "\"MARLOPOLIS ,1\n",
      "MASTER MAN II/ALEXAN ,2\n",
      "Average number of heroes per comic:\n",
      "Avg: 96104/5777=16.6356\n"
     ]
    }
   ],
   "source": [
    "%%bash\n",
    "\n",
    "#1.What is the most popular pair of heroes (often appearing together in the comics)?\n",
    "echo \"Most popular pair of heroes:\"\n",
    "awk 'NR>1{c[$0]++} END{for (k in c)print k,\",\"c[k]}' data/hero-network.csv | sort -k3 -nr -t,  > cl_output/uniq-sort.txt\n",
    "head -n 1 cl_output/uniq-sort.txt \n",
    "\n",
    "#2.Number of comics per hero.\n",
    "echo \"Number of comics per hero:\"\n",
    "cut -d',' -f1 data/edges.csv | awk 'NR>1{c[$0]++} END{for (k in c)print k,\",\"c[k]}' > cl_output/num_com_per_hero.txt\n",
    "head -n 10 cl_output/num_com_per_hero.txt\n",
    "\n",
    "#3.Average number of heroes per comic\n",
    "echo \"Average number of heroes per comic:\"\n",
    "sort -u data/edges.csv | cut -d',' -f1 data/edges.csv | awk 'NR>1{c[$0]++} END{for (k in c)print k,\",\"c[k]}' | awk -F',' '{sum+=$2; ++n} END { print \"Avg: \"sum\"/\"n\"=\"sum/n }' "
   ]
  },
  {
   "attachments": {},
   "cell_type": "markdown",
   "metadata": {},
   "source": [
    "## 5. Bonus - PageRank on MapReduce"
   ]
  },
  {
   "attachments": {},
   "cell_type": "markdown",
   "metadata": {},
   "source": [
    "## 6. Algorithmic Question"
   ]
  }
 ],
 "metadata": {
  "kernelspec": {
   "display_name": "base",
   "language": "python",
   "name": "python3"
  },
  "language_info": {
   "codemirror_mode": {
    "name": "ipython",
    "version": 3
   },
   "file_extension": ".py",
   "mimetype": "text/x-python",
   "name": "python",
   "nbconvert_exporter": "python",
   "pygments_lexer": "ipython3",
   "version": "3.9.12"
  },
  "orig_nbformat": 4,
  "vscode": {
   "interpreter": {
    "hash": "782117f08ed859aa13a701b87eaecaa1d2e6c59a6ebb52301f0d1b251c4747e4"
   }
  }
 },
 "nbformat": 4,
 "nbformat_minor": 2
}
